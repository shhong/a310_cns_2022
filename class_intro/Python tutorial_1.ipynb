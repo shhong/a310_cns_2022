{
 "cells": [
  {
   "cell_type": "markdown",
   "metadata": {
    "slideshow": {
     "slide_type": "slide"
    }
   },
   "source": [
    "# Lightning Introduction to Python"
   ]
  },
  {
   "cell_type": "markdown",
   "metadata": {},
   "source": [
    "Here we cover very basic of Python that is minimally necessary to use NEURON. This notebook is loosely based on https://people.duke.edu/~ccc14/sta-663/IntroductionToPythonSolutions.html"
   ]
  },
  {
   "cell_type": "markdown",
   "metadata": {
    "slideshow": {
     "slide_type": "slide"
    }
   },
   "source": [
    "## Language basics "
   ]
  },
  {
   "cell_type": "markdown",
   "metadata": {
    "slideshow": {
     "slide_type": "subslide"
    }
   },
   "source": [
    "### Variables\n",
    "\n",
    "Python is a dynamic language, and variables can be created and assigned without declaration."
   ]
  },
  {
   "cell_type": "code",
   "execution_count": null,
   "metadata": {},
   "outputs": [],
   "source": [
    "a = 2    # define a\n",
    "print(a)"
   ]
  },
  {
   "cell_type": "code",
   "execution_count": null,
   "metadata": {},
   "outputs": [],
   "source": [
    "b = a\n",
    "a *= b   # a==???\n",
    "print(a, b)"
   ]
  },
  {
   "cell_type": "code",
   "execution_count": null,
   "metadata": {},
   "outputs": [],
   "source": [
    "del(a, b)\n",
    "print(a, b)"
   ]
  },
  {
   "cell_type": "markdown",
   "metadata": {
    "slideshow": {
     "slide_type": "subslide"
    }
   },
   "source": [
    "### Code blocks (Indents)\n",
    "\n",
    "In Python, code blocks are defined by fixed indents followed by `:`. There is no rule about how many spaces/tabs should be used, but indenting should be consistent within a block.\n",
    "\n",
    "For example, indenting is required in conditionals, "
   ]
  },
  {
   "cell_type": "code",
   "execution_count": null,
   "metadata": {},
   "outputs": [],
   "source": [
    "if True:\n",
    "    print(\"True.\")\n",
    "    print(\"To be precise, that was True.\")\n",
    "else:\n",
    "    print(\"False.\")\n"
   ]
  },
  {
   "cell_type": "markdown",
   "metadata": {
    "slideshow": {
     "slide_type": "subslide"
    }
   },
   "source": [
    "In loops,"
   ]
  },
  {
   "cell_type": "code",
   "execution_count": null,
   "metadata": {},
   "outputs": [],
   "source": [
    "for x in range(6):\n",
    "    print(x)"
   ]
  },
  {
   "cell_type": "markdown",
   "metadata": {
    "slideshow": {
     "slide_type": "subslide"
    }
   },
   "source": [
    "Also, when you define functions,"
   ]
  },
  {
   "cell_type": "code",
   "execution_count": null,
   "metadata": {},
   "outputs": [],
   "source": [
    "def f(x):\n",
    "    y = x + 1\n",
    "    return y\n",
    "\n",
    "print(f(2))"
   ]
  },
  {
   "cell_type": "markdown",
   "metadata": {
    "slideshow": {
     "slide_type": "slide"
    }
   },
   "source": [
    "### Flow control"
   ]
  },
  {
   "cell_type": "markdown",
   "metadata": {
    "slideshow": {
     "slide_type": "subslide"
    }
   },
   "source": [
    "#### Conditionals"
   ]
  },
  {
   "cell_type": "code",
   "execution_count": null,
   "metadata": {},
   "outputs": [],
   "source": [
    "simulator = \"NEURON\"\n",
    "language = \"Python\"\n",
    "\n",
    "if simulator==\"NEURON\" and language==\"Python\":\n",
    "    print(\"This is a NEURON simulation written in Python.\")\n",
    "\n",
    "if simulator!=\"NEURON\":\n",
    "    print(\"Not a NEURON simulation.\")\n",
    "\n",
    "if not language==\"Python\":\n",
    "    print(\"Not written in Python.\")\n"
   ]
  },
  {
   "cell_type": "markdown",
   "metadata": {
    "slideshow": {
     "slide_type": "subslide"
    }
   },
   "source": [
    "#### Loops"
   ]
  },
  {
   "cell_type": "code",
   "execution_count": null,
   "metadata": {},
   "outputs": [],
   "source": [
    "j = 0\n",
    "for i in range(10):\n",
    "    j += i\n",
    "    print(i, j)"
   ]
  },
  {
   "cell_type": "code",
   "execution_count": null,
   "metadata": {},
   "outputs": [],
   "source": [
    "i, j = 0, 0\n",
    "while i<10:\n",
    "    i, j = i+1, i+j+1\n",
    "    print(i, j)"
   ]
  },
  {
   "cell_type": "code",
   "execution_count": null,
   "metadata": {
    "slideshow": {
     "slide_type": "subslide"
    }
   },
   "outputs": [],
   "source": [
    "j = 0\n",
    "for x in [\"a\", \"b\", \"c\", \"d\"]:\n",
    "    print(\"For condition\", x, \", variable = \", j)\n",
    "    j += 1\n"
   ]
  },
  {
   "cell_type": "code",
   "execution_count": null,
   "metadata": {},
   "outputs": [],
   "source": [
    "for j, x in enumerate([\"a\", \"b\", \"c\", \"d\"]):\n",
    "    print(\"For condition\", x, \", variable = \", j)\n"
   ]
  },
  {
   "cell_type": "markdown",
   "metadata": {
    "slideshow": {
     "slide_type": "slide"
    }
   },
   "source": [
    "### Defining functions and how to call them"
   ]
  },
  {
   "cell_type": "code",
   "execution_count": null,
   "metadata": {},
   "outputs": [],
   "source": [
    "def f(x, y):\n",
    "    return x**y"
   ]
  },
  {
   "cell_type": "code",
   "execution_count": null,
   "metadata": {},
   "outputs": [],
   "source": [
    "print(f(2,3))"
   ]
  },
  {
   "cell_type": "markdown",
   "metadata": {
    "slideshow": {
     "slide_type": "subslide"
    }
   },
   "source": [
    "Default values for inputs can be specified:"
   ]
  },
  {
   "cell_type": "code",
   "execution_count": null,
   "metadata": {},
   "outputs": [],
   "source": [
    "def f(x, y=2):\n",
    "    return x**y\n",
    "\n",
    "print(f(3))"
   ]
  },
  {
   "cell_type": "markdown",
   "metadata": {
    "slideshow": {
     "slide_type": "subslide"
    }
   },
   "source": [
    "It is recommended to make a note about how to use the function"
   ]
  },
  {
   "cell_type": "code",
   "execution_count": null,
   "metadata": {},
   "outputs": [],
   "source": [
    "def f(x, y=2):\n",
    "    \"\"\" computes the y-th power of x.\"\"\"\n",
    "    return x**y"
   ]
  },
  {
   "cell_type": "code",
   "execution_count": null,
   "metadata": {
    "slideshow": {
     "slide_type": "subslide"
    }
   },
   "outputs": [],
   "source": [
    "help(f)\n",
    "\n",
    "help(dir)"
   ]
  },
  {
   "cell_type": "markdown",
   "metadata": {
    "slideshow": {
     "slide_type": "slide"
    }
   },
   "source": [
    "## Modules and namespaces\n",
    "\n",
    "Every module in Python comes with its own namespace, and functions in a module need to be called with the namespace."
   ]
  },
  {
   "cell_type": "code",
   "execution_count": null,
   "metadata": {},
   "outputs": [],
   "source": [
    "def sqrt(a):\n",
    "    return [x*x for x in a]\n",
    "    \n",
    "import numpy\n",
    "\n",
    "a = numpy.sqrt([1, 2, 3, 4])\n",
    "print(a)"
   ]
  },
  {
   "cell_type": "markdown",
   "metadata": {
    "slideshow": {
     "slide_type": "subslide"
    }
   },
   "source": [
    "In fact, every file is considered as a module with its own namespace. For example, let's say you have mymodule.py as"
   ]
  },
  {
   "cell_type": "code",
   "execution_count": null,
   "metadata": {},
   "outputs": [],
   "source": [
    "%%file mymodule.py\n",
    "\"\"\"\n",
    "Here you write a module help. Try help(mymodule) after importing.\n",
    "\"\"\"\n",
    "\n",
    "def func1():\n",
    "    \"\"\" Help for func1. \"\"\"\n",
    "    print(\"You called func1!\")"
   ]
  },
  {
   "cell_type": "code",
   "execution_count": null,
   "metadata": {},
   "outputs": [],
   "source": [
    "import mymodule\n",
    "mymodule.func1()"
   ]
  },
  {
   "cell_type": "markdown",
   "metadata": {
    "slideshow": {
     "slide_type": "subslide"
    }
   },
   "source": [
    "However, if the namespace gets too long, you can use two alternatives: First, you can use an alias,"
   ]
  },
  {
   "cell_type": "code",
   "execution_count": null,
   "metadata": {},
   "outputs": [],
   "source": [
    "import numpy.random as r\n",
    "print(numpy.random.rand(10))\n",
    "print(r.rand(10))"
   ]
  },
  {
   "cell_type": "markdown",
   "metadata": {
    "slideshow": {
     "slide_type": "subslide"
    }
   },
   "source": [
    "Second, you can directly import functions,"
   ]
  },
  {
   "cell_type": "code",
   "execution_count": null,
   "metadata": {},
   "outputs": [],
   "source": [
    "from numpy.random import rand\n",
    "print(rand(10))"
   ]
  },
  {
   "cell_type": "markdown",
   "metadata": {
    "slideshow": {
     "slide_type": "subslide"
    }
   },
   "source": [
    "You can import **all** symbols as the following, but use this method **only when you know what you are doing!**"
   ]
  },
  {
   "cell_type": "code",
   "execution_count": null,
   "metadata": {},
   "outputs": [],
   "source": [
    "from mymodule import *\n",
    "func1()"
   ]
  },
  {
   "cell_type": "markdown",
   "metadata": {
    "slideshow": {
     "slide_type": "slide"
    }
   },
   "source": [
    "## List\n",
    "\n",
    "List is a mutable data type that can contain elements with different data types."
   ]
  },
  {
   "cell_type": "code",
   "execution_count": null,
   "metadata": {
    "slideshow": {
     "slide_type": "-"
    }
   },
   "outputs": [],
   "source": [
    "a = [0, 1, 2, 3, 4, 5]\n",
    "print(a)\n",
    "a = list(range(6))\n",
    "print(a)"
   ]
  },
  {
   "cell_type": "code",
   "execution_count": null,
   "metadata": {
    "slideshow": {
     "slide_type": "subslide"
    }
   },
   "outputs": [],
   "source": [
    "a.append(6)     # You can append elements...\n",
    "print(a)\n",
    "\n",
    "a.append('J')   # of different types...\n",
    "print(a)\n",
    "\n",
    "a.remove(3)     # and remove them, too.\n",
    "print(a)"
   ]
  },
  {
   "cell_type": "code",
   "execution_count": null,
   "metadata": {
    "slideshow": {
     "slide_type": "subslide"
    }
   },
   "outputs": [],
   "source": [
    "print(3 in a) # Test if it has a particular element.\n",
    "\n",
    "for x in a: \n",
    "    print(x**2)   # Loop around elements in the list."
   ]
  },
  {
   "cell_type": "code",
   "execution_count": null,
   "metadata": {
    "slideshow": {
     "slide_type": "subslide"
    }
   },
   "outputs": [],
   "source": [
    "print(a[3])\n",
    "print(a[1:5])    # Access a range of elements.\n",
    "print(a[-1])     # You can also index from the end."
   ]
  },
  {
   "cell_type": "markdown",
   "metadata": {
    "slideshow": {
     "slide_type": "slide"
    }
   },
   "source": [
    "## Tuple\n",
    "\n",
    "Tuple is similar to List, but is immutable."
   ]
  },
  {
   "cell_type": "code",
   "execution_count": null,
   "metadata": {},
   "outputs": [],
   "source": [
    "a = (1, 2)\n",
    "print(3 in a)       # Test if it has the particular element.\n",
    "\n",
    "a = 1, 2     # a == ???\n",
    "print(a)\n",
    "a, b = 1, 2  # a == ??? We have seen this before.\n",
    "print(a, b)\n",
    "      \n",
    "def f():\n",
    "    return 1, 2\n",
    "\n",
    "print(f())     # x==???\n",
    "x, y = f()  # x==???\n",
    "print(x, y)"
   ]
  },
  {
   "cell_type": "markdown",
   "metadata": {
    "slideshow": {
     "slide_type": "slide"
    }
   },
   "source": [
    "## Dictionary\n",
    "\n",
    "The dictionary is an incredibly convenient data structure that provides key/value access."
   ]
  },
  {
   "cell_type": "code",
   "execution_count": null,
   "metadata": {},
   "outputs": [],
   "source": [
    "p = {'type': 'pyr', 'rate': 1.0, 'number': 1000}\n",
    "print(p)\n",
    "print(p['type'])\n",
    "print('type' in p)    # Check if the dict has a particular **key**"
   ]
  },
  {
   "cell_type": "markdown",
   "metadata": {
    "slideshow": {
     "slide_type": "subslide"
    }
   },
   "source": [
    "A list of dictionaries is a very convenient data structure to handle complex data sets."
   ]
  },
  {
   "cell_type": "code",
   "execution_count": null,
   "metadata": {},
   "outputs": [],
   "source": [
    "cells = [\n",
    "    {'type': 'pyr', 'rate': 1.0, 'number': 1000},\n",
    "    {'type': 'PV int',  'rate': 4.0, 'number': 200},\n",
    "    {'type': 'SOM int', 'rate': 1.5, 'number': 100}\n",
    "]"
   ]
  },
  {
   "cell_type": "code",
   "execution_count": null,
   "metadata": {},
   "outputs": [],
   "source": [
    "for cell in cells:\n",
    "    if 'int' in cell['type']:\n",
    "        print('The number of', cell['type'], 'neurons is', cell['number'])"
   ]
  },
  {
   "cell_type": "markdown",
   "metadata": {
    "slideshow": {
     "slide_type": "slide"
    }
   },
   "source": [
    "## String\n",
    "\n",
    "Here are examples of how we make strings and synthesize them with given data:"
   ]
  },
  {
   "cell_type": "code",
   "execution_count": null,
   "metadata": {},
   "outputs": [],
   "source": [
    "s1 = \"Hello,\"\n",
    "s2 = \"World\"\n",
    "print(s1 + s2)"
   ]
  },
  {
   "cell_type": "markdown",
   "metadata": {
    "slideshow": {
     "slide_type": "subslide"
    }
   },
   "source": [
    "### String formatting"
   ]
  },
  {
   "cell_type": "code",
   "execution_count": null,
   "metadata": {},
   "outputs": [],
   "source": [
    "print(\"I am a {} {} computer\".format(\"HAL\", 9000))\n",
    "print(\"I became operational at the {lab} in {location}.\".format(location=\"Urbana, Illinois\", lab=\"the HAL plant\"))"
   ]
  },
  {
   "cell_type": "code",
   "execution_count": null,
   "metadata": {},
   "outputs": [],
   "source": [
    "print(\"My computing power is way better than that of {0}, which is only {1} TFLOPS.\".format(\"Skynet\", 60))\n",
    "print(\"Only {0:.12f} TFLOPS, my gosh!\".format(60))"
   ]
  },
  {
   "cell_type": "markdown",
   "metadata": {
    "slideshow": {
     "slide_type": "subslide"
    }
   },
   "source": [
    "### f-strings"
   ]
  },
  {
   "cell_type": "code",
   "execution_count": null,
   "metadata": {},
   "outputs": [],
   "source": [
    "first_name = \"Eric\"\n",
    "last_name  = \"Idle\"\n",
    "print(f\"His full name is {first_name} {last_name}.\")\n",
    "print(f\"12*6 = {12*6}.\")\n",
    "print(f\"The first name in lower case = {first_name.lower()}.\")"
   ]
  },
  {
   "cell_type": "markdown",
   "metadata": {
    "slideshow": {
     "slide_type": "slide"
    }
   },
   "source": [
    "## Custom types (classes)\n",
    "\n",
    "You can define your own data types. We will not go much details, but here we show an example"
   ]
  },
  {
   "cell_type": "code",
   "execution_count": null,
   "metadata": {},
   "outputs": [],
   "source": [
    "class Cell(object):\n",
    "    \"\"\" Class help \"\"\"\n",
    "    def __init__(self, cell_type):\n",
    "        self.cell_type = cell_type\n",
    "        self.electrodes = []\n",
    "        \n",
    "    def add_patch_electrode(self, location):\n",
    "        self.electrodes.append(location)\n",
    "        print('A patch clamp electrode is attached to the {} cell at {}.'.format(self.cell_type, location))"
   ]
  },
  {
   "cell_type": "code",
   "execution_count": null,
   "metadata": {
    "slideshow": {
     "slide_type": "subslide"
    }
   },
   "outputs": [],
   "source": [
    "c = Cell('pyramidal')"
   ]
  },
  {
   "cell_type": "code",
   "execution_count": null,
   "metadata": {},
   "outputs": [],
   "source": [
    "print(c.cell_type)\n",
    "print(c.electrodes)\n",
    "\n",
    "c.add_patch_electrode(0.5)\n"
   ]
  },
  {
   "cell_type": "code",
   "execution_count": null,
   "metadata": {},
   "outputs": [],
   "source": [
    "print(c.electrodes)"
   ]
  }
 ],
 "metadata": {
  "@webio": {
   "lastCommId": null,
   "lastKernelId": null
  },
  "celltoolbar": "Slideshow",
  "kernelspec": {
   "display_name": "Python 3",
   "language": "python",
   "name": "python3"
  },
  "language_info": {
   "codemirror_mode": {
    "name": "ipython",
    "version": 3
   },
   "file_extension": ".py",
   "mimetype": "text/x-python",
   "name": "python",
   "nbconvert_exporter": "python",
   "pygments_lexer": "ipython3",
   "version": "3.8.12"
  }
 },
 "nbformat": 4,
 "nbformat_minor": 4
}
