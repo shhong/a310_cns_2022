{
 "cells": [
  {
   "cell_type": "markdown",
   "metadata": {
    "slideshow": {
     "slide_type": "slide"
    }
   },
   "source": [
    "# Lightning Introduction to Python - Data analysis examples"
   ]
  },
  {
   "cell_type": "markdown",
   "metadata": {},
   "source": [
    "There are many modules available for scientific computation, but the most basic and frequently used workhorses are Numpy (http://www.numpy.org), SciPy (https://www.scipy.org/scipylib/index.html), and Matplotlib (https://matplotlib.org). Numpy provides an efficent _array_ structure that is a basis for many scientific applications, such as SciPy. Matplotlib is the most widely used plotting module. These modules contain tons of functions that you can read about, but here we show some of the use examples that can be useful in the course."
   ]
  },
  {
   "cell_type": "markdown",
   "metadata": {
    "slideshow": {
     "slide_type": "slide"
    }
   },
   "source": [
    "First, we import the modules"
   ]
  },
  {
   "cell_type": "code",
   "execution_count": null,
   "metadata": {},
   "outputs": [],
   "source": [
    "import numpy as np\n",
    "import scipy.io\n",
    "\n",
    "import matplotlib.pyplot as plt\n",
    "%matplotlib inline"
   ]
  },
  {
   "cell_type": "markdown",
   "metadata": {
    "slideshow": {
     "slide_type": "slide"
    }
   },
   "source": [
    "## Simple time series generation\n",
    "\n",
    "Let's consider a problem of generating a very simple time series $X(t)$ given by\n",
    "\n",
    "$$\n",
    "X(t+1) = (1-dt/T) X(t),\n",
    "$$\n",
    "\n",
    "which is equivalent to solving a differential equation $ dX/dt = -X/T$ with a time step $dt$.\n",
    "\n",
    "To solve this problem, we first make an array to hold our data, _X_(_t_), and iteratively solve the equation."
   ]
  },
  {
   "cell_type": "code",
   "execution_count": null,
   "metadata": {
    "slideshow": {
     "slide_type": "subslide"
    }
   },
   "outputs": [],
   "source": [
    "L = 1001 # From X(0), we generate X(1), X(2), X(3), ...., up to X(1000)\n",
    "x = np.zeros(L) # make an array with L zeros\n",
    "x[0] = 1 # we begin from X(0) = 1\n",
    "\n",
    "# arbitraty parameters...\n",
    "dt = 0.01\n",
    "T = 1.0\n",
    "\n",
    "for t in range(L-1):\n",
    "    x[t+1] = (1-dt/T)*x[t]\n"
   ]
  },
  {
   "cell_type": "code",
   "execution_count": null,
   "metadata": {
    "slideshow": {
     "slide_type": "subslide"
    }
   },
   "outputs": [],
   "source": [
    "t = np.arange(L)\n",
    "\n",
    "fig, ax = plt.subplots()\n",
    "ax.plot(t, x)"
   ]
  },
  {
   "cell_type": "markdown",
   "metadata": {
    "slideshow": {
     "slide_type": "subslide"
    }
   },
   "source": [
    "We save this figure as a PNG file, and save bins, counts and log(counts) into a MATLAB file."
   ]
  },
  {
   "cell_type": "code",
   "execution_count": null,
   "metadata": {},
   "outputs": [],
   "source": [
    "fig.savefig(\"time_series.png\")\n",
    "\n",
    "scipy.io.savemat(\"time_series.mat\",\n",
    "                 {\n",
    "                     \"t\": t,\n",
    "                     \"x\": x,\n",
    "                 })"
   ]
  },
  {
   "cell_type": "markdown",
   "metadata": {
    "slideshow": {
     "slide_type": "subslide"
    }
   },
   "source": [
    "Let's check if everything is saved correctly!"
   ]
  },
  {
   "cell_type": "code",
   "execution_count": null,
   "metadata": {},
   "outputs": [],
   "source": [
    "data = scipy.io.loadmat('time_series.mat')\n",
    "print(data.keys())\n",
    "print(data['t'])"
   ]
  },
  {
   "cell_type": "code",
   "execution_count": null,
   "metadata": {},
   "outputs": [],
   "source": [
    "fig, ax = plt.subplots()\n",
    "ax.plot(data['t'][0], data['x'][0])"
   ]
  },
  {
   "cell_type": "markdown",
   "metadata": {
    "slideshow": {
     "slide_type": "slide"
    }
   },
   "source": [
    "## Reading experimental data and writing analysis"
   ]
  },
  {
   "cell_type": "markdown",
   "metadata": {},
   "source": [
    "Here we show an example of analysis on experimental data."
   ]
  },
  {
   "cell_type": "markdown",
   "metadata": {
    "slideshow": {
     "slide_type": "subslide"
    }
   },
   "source": [
    "Here we use Numpy's `loadtxt` to load our data in a text file."
   ]
  },
  {
   "cell_type": "code",
   "execution_count": null,
   "metadata": {},
   "outputs": [],
   "source": [
    "isi = np.loadtxt('data/isis_184.txt') # load the text data\n",
    "print(isi)"
   ]
  },
  {
   "cell_type": "markdown",
   "metadata": {
    "slideshow": {
     "slide_type": "subslide"
    }
   },
   "source": [
    "Here we want to compare what the data look like when we take log of them."
   ]
  },
  {
   "cell_type": "code",
   "execution_count": null,
   "metadata": {},
   "outputs": [],
   "source": [
    "logisi = np.log10(isi)\n",
    "\n",
    "# Following http://pbpython.com/effective-matplotlib.html\n",
    "_, ax = plt.subplots(ncols=2, figsize=(10, 4))\n",
    "ax[0].plot(isi)\n",
    "ax[1].plot(logisi)\n",
    "ax[0].set(title = \"Interspike intervals\", xlabel=\"\", ylabel=\"ISI (ms)\")\n",
    "ax[1].set(title = \"Log(ISI)\", xlabel=\"Spike\", ylabel=\"log(ISI)\")"
   ]
  },
  {
   "cell_type": "markdown",
   "metadata": {
    "slideshow": {
     "slide_type": "subslide"
    }
   },
   "source": [
    "Now we compute a histogram of the data. Note that `bins` in the result represent left and right edges of the bins, and is bigger than `counts`."
   ]
  },
  {
   "cell_type": "code",
   "execution_count": null,
   "metadata": {},
   "outputs": [],
   "source": [
    "counts, bins = np.histogram(logisi, bins=50)\n",
    "print(bins)\n",
    "print('Bin size = ', bins.size)\n",
    "print(counts)\n",
    "print('Counts = ', counts.size)"
   ]
  },
  {
   "cell_type": "markdown",
   "metadata": {
    "slideshow": {
     "slide_type": "subslide"
    }
   },
   "source": [
    "Now we plot the histogram, and also log of the counts, side by side."
   ]
  },
  {
   "cell_type": "code",
   "execution_count": null,
   "metadata": {},
   "outputs": [],
   "source": [
    "fig, ax = plt.subplots(ncols=2, figsize=(10,4))\n",
    "ax[0].plot(bins[:-1], counts)                  # Note indexing\n",
    "ax[0].set(xlabel=\"log(ISI)\", ylabel=\"Counts\")\n",
    "\n",
    "log_counts = np.log10(counts+0.5)\n",
    "ax[1].plot(bins[:-1], log_counts)\n",
    "ax[1].set(xlabel=\"log(ISI)\", ylabel=\"log10(Counts)\")\n"
   ]
  },
  {
   "cell_type": "markdown",
   "metadata": {
    "slideshow": {
     "slide_type": "subslide"
    }
   },
   "source": [
    "We save this figure as a PNG file, and save bins, counts and log(counts) into a MATLAB file."
   ]
  },
  {
   "cell_type": "code",
   "execution_count": null,
   "metadata": {},
   "outputs": [],
   "source": [
    "fig.savefig(\"histograms_logisi_184.png\")\n",
    "\n",
    "scipy.io.savemat(\"data_histograms_logisi_184.mat\",\n",
    "                 {\n",
    "                     \"bins\": bins,\n",
    "                     \"counts\": counts,\n",
    "                     \"log_counts\": log_counts\n",
    "                 })"
   ]
  },
  {
   "cell_type": "markdown",
   "metadata": {
    "slideshow": {
     "slide_type": "subslide"
    }
   },
   "source": [
    "Let's check if everything is saved correctly!"
   ]
  },
  {
   "cell_type": "code",
   "execution_count": null,
   "metadata": {},
   "outputs": [],
   "source": [
    "data = scipy.io.loadmat('data_histograms_logisi_184.mat')\n",
    "print(data)"
   ]
  },
  {
   "cell_type": "code",
   "execution_count": null,
   "metadata": {
    "slideshow": {
     "slide_type": "subslide"
    }
   },
   "outputs": [],
   "source": [
    "bins = data['bins'][0]\n",
    "counts = data['counts'][0]\n",
    "log_counts = data['log_counts'][0]\n",
    "\n",
    "fig, ax = plt.subplots(ncols=2, figsize=(16,5))\n",
    "ax[0].plot(bins[:-1], counts)\n",
    "ax[0].set(xlabel=\"log(ISI)\", ylabel=\"Counts\")\n",
    "\n",
    "log_counts = np.log10(counts+0.5)\n",
    "ax[1].plot(bins[:-1], log_counts)\n",
    "ax[1].set(xlabel=\"log(ISI)\", ylabel=\"log10(Counts)\")"
   ]
  }
 ],
 "metadata": {
  "@webio": {
   "lastCommId": null,
   "lastKernelId": null
  },
  "celltoolbar": "Slideshow",
  "kernelspec": {
   "display_name": "Python 3",
   "language": "python",
   "name": "python3"
  },
  "language_info": {
   "codemirror_mode": {
    "name": "ipython",
    "version": 3
   },
   "file_extension": ".py",
   "mimetype": "text/x-python",
   "name": "python",
   "nbconvert_exporter": "python",
   "pygments_lexer": "ipython3",
   "version": "3.8.12"
  }
 },
 "nbformat": 4,
 "nbformat_minor": 4
}
