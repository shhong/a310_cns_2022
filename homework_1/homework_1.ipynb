{
 "cells": [
  {
   "cell_type": "markdown",
   "id": "126ac5e8-81e7-4800-aab7-7287cd962bd3",
   "metadata": {},
   "source": [
    "# Homework 1 (Due: February 21, 2022)"
   ]
  },
  {
   "cell_type": "markdown",
   "id": "32c0333f-0cd5-4711-ac70-d12fe7556071",
   "metadata": {},
   "source": [
    "## 1. Fitting a model to data\n",
    "\n",
    "1. Prepare an artificial data set composed of $t$ = \\[0.0, 0.1, 0.2,..., 200\\] and $y = 0.8e^{-c_1 t}+0.2 e^{-c_2 t}$ where $c_1$ = 0.1 and $c_2$ = 0.01. Then, use [`scipy.optimize.curve_fit`](https://docs.scipy.org/doc/scipy/reference/generated/scipy.optimize.curve_fit.html) to find the best fit of our \"model\" of the functional form $y = A \\exp(-a t)$ where $A$ and $a$ are constant parameters.\n",
    "2. Add gaussian noise ([`numpy.random.randn`](https://numpy.org/doc/stable/reference/random/generated/numpy.random.randn.html)) to the $y$ data and see how the model fitting is affected depending on the amplitude of the noise. Also, compare the results with a model with two exponential terms, $y = A_1 \\exp(-a_1 t) + A_2 \\exp(-a_2 t)$. How would you determine which model is better given the goodness of fit and number of parameters?\n",
    "3. Load the data file `ipsc_acc_17711000.dat` (Use [`numpy.loadtxt`](https://numpy.org/doc/stable/reference/generated/numpy.loadtxt.html)). Note that the first and second column are time in millisecond and a time series derived from experimental data, respectively) and try to fit the sum-of-exponentials models to this data. Choose your best model/fit and describe how you validate the result."
   ]
  },
  {
   "cell_type": "markdown",
   "id": "dedf3a84-b2fe-45b3-b65b-48f0fc4c891d",
   "metadata": {},
   "source": [
    "## 2. Analysis of neural data\n",
    "\n",
    "In this exercise, you will go through some basic analysis of *in vivo* neural recording data. We provide a data file `PC3.mat`, which contains the recording of [spikes](https://en.wikipedia.org/wiki/Action_potential) from a neuron while an animal repeated more or less the same movement. The movements started at *t*=0 ms and the speed of the movement was also recorded for each *trial*.\n",
    "\n",
    "First, to read the data, use the [loadmat](https://docs.scipy.org/doc/scipy/reference/generated/scipy.io.loadmat.html) function to load the following three variables from `PC3.mat`:\n",
    "* `ss`: a matrix with dimensions of (number of trials x time). When the neuron was spiking at  the n-th trial at time $t$, `ss[n,t]` = 1. Otherwise `ss[n,t]` = 0,\n",
    "* `t`: a time vector in millisecond. The animal started move at `t`=0,\n",
    "* `v`: a vector containing the movement speed, i.e., `v[n]` is the movement speed at the n-th trial.\n",
    "\n",
    "**Don't forget transform `t` and `v` into 1d arrays!!! Use [numpy.ravel](https://numpy.org/doc/stable/reference/generated/numpy.ravel.html) if you are not sure.**\n",
    "\n",
    "Now using those variables answer the following questions:\n",
    "\n",
    "1. After loading the data, plot time vs. the average of spiking activity (`ss`) across all the trials.\n",
    "2. Plot the mean vs. variance of `ss`, across all the trials (i.e., `axis=0`). Can you explain the result? Try to find an equation that can explain the plot.\n",
    "3. Smoothe the spike data to estimate the rate of spiking. Plot time vs. average *rate* across all the trials to show the effect of smoothing. Hint: If you are not sure, you can use [gaussian filtering](https://docs.scipy.org/doc/scipy/reference/generated/scipy.ndimage.gaussian_filter1d.html). Choose `sigma` that you think is the best to infer the rate.\n",
    "4. Perform the first-order polynomial regression ([numpy.polyfit](https://numpy.org/doc/stable/reference/generated/numpy.polyfit.html)) of the movement speed (`v`) vs. the rate matrix obtained in 3. What does this *model* predict about how the spiking rate would change with movement speed? Plot your answer assuming that the movement speed typically fluctuates about ±150 (°/s) between trials. **Don't forget subtracting the mean of `v` from `v` when you do the regression!!**"
   ]
  },
  {
   "cell_type": "markdown",
   "id": "34f67690-e503-4f56-a4a8-f966cd86a7cf",
   "metadata": {},
   "source": [
    "## 3. Inspecting membrane properties via current clamp\n",
    "\n",
    "Following an example in our NEURON Tutorial 1, create an axon simulation\n",
    "with the following specifications:\n",
    "\n",
    "- Diameter (`diam`) = 1 um and length (`L`) = 1000 um,\n",
    "- Capacitance per area (`cm`) = 1 uF/cm2,\n",
    "- Passive mechanism (`pas`) with the conductance per area = 1×10$^{-4}$ S/cm2. (**Hint**: the conductance variable for this mechanism is `axon.g_pas`)\n",
    "- A current clamp electrode (`ic`) near one end (`x`≈0) that injects 50 pA for a sufficiently long time (>200 ms).\n",
    "\n",
    "1. What are the theoretical membrane time constant for this axon?\n",
    "2. Run the simulation and measure the membrane time constant from the simulated data. How does the measured time constant compare with the theoretical value?\n",
    "3. **(I-V curve)** Try several different values for the injected current from -50 pA to 50 pA, record the steady state membrane voltages, plot the current vs membrane voltage graph. What is the input resistance? Then, what is the total membrane capacitance?\n",
    "4. **(Fig. 2.5)** Draw the input resistance vs cable length curve as Fig. 2.5 in the textbook. Please make sure that the cable has the sufficiently large `nseg` to get a quasi-smooth curve. Here, you should be able to get one of two curves quite easily, since cables in NEURON have sealed-ends. Then, how can you draw the other one?"
   ]
  }
 ],
 "metadata": {
  "kernelspec": {
   "display_name": "Python 3",
   "language": "python",
   "name": "python3"
  },
  "language_info": {
   "codemirror_mode": {
    "name": "ipython",
    "version": 3
   },
   "file_extension": ".py",
   "mimetype": "text/x-python",
   "name": "python",
   "nbconvert_exporter": "python",
   "pygments_lexer": "ipython3",
   "version": "3.8.12"
  }
 },
 "nbformat": 4,
 "nbformat_minor": 5
}
