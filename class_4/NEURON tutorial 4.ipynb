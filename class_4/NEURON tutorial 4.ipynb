{
 "cells": [
  {
   "cell_type": "markdown",
   "metadata": {
    "slideshow": {
     "slide_type": "slide"
    },
    "tags": []
   },
   "source": [
    "# Network simulations"
   ]
  },
  {
   "cell_type": "markdown",
   "metadata": {},
   "source": [
    "## **Don't forget compiling mod files.**"
   ]
  },
  {
   "cell_type": "markdown",
   "metadata": {
    "slideshow": {
     "slide_type": "slide"
    },
    "tags": []
   },
   "source": [
    "# 1. Cell objects\n",
    "\n",
    "**Make sure that you reset the kernel at this point.** \n",
    "\n",
    "In Python, you can define custom data types that you can use to organize data and related operations. For example, so far we have worked with cell models in NEURON, which have common attributes and operations as:\n",
    "\n",
    "1. Sections and segments,\n",
    "2. Combining sections to define the morphology of a cell,\n",
    "3. Active mechanisms and inserting them,\n",
    "4. Synapses and connecting them to other cells, etc."
   ]
  },
  {
   "cell_type": "markdown",
   "metadata": {
    "slideshow": {
     "slide_type": "subslide"
    },
    "tags": []
   },
   "source": [
    "We can collect these into a cell object as follows:"
   ]
  },
  {
   "cell_type": "code",
   "execution_count": null,
   "metadata": {},
   "outputs": [],
   "source": [
    "from neuron import h, gui\n",
    "from neuron import load_mechanisms\n",
    "\n",
    "import numpy as np\n",
    "import matplotlib.pyplot as plt\n",
    "\n",
    "\n",
    "class Cell:\n",
    "    \"\"\" Cell class\"\"\"\n",
    "    \n",
    "    # When a cell object is created this function is called first.\n",
    "    # Note \"self\" in definition\n",
    "    def __init__(self):\n",
    "        \n",
    "        self.synlist = []      # list of synapses in this cell\n",
    "\n",
    "        # here are some operations to create a cell\n",
    "        self.create_sections()\n",
    "        self.build_topology()\n",
    "        self.build_subsets()\n",
    "        self.define_geometry()\n",
    "        self.define_biophysics()\n",
    "        self.create_synapses()\n",
    "\n",
    "    # At this stage, we leave most of them unimplemented\n",
    "    # This technique is called \"the Template Method pattern\" (https://sourcemaking.com/design_patterns/template_method)\n",
    "    def create_sections(self):\n",
    "        raise NotImplementedError(\"create_section() is not implemented.\")\n",
    "\n",
    "    def build_topology(self):\n",
    "        raise NotImplementedError(\"build_topology() is not implemented.\")\n",
    "    \n",
    "    def build_subsets(self):\n",
    "        raise NotImplementedError(\"build_subsets() is not implemented.\")\n",
    "\n",
    "    def define_geometry(self):\n",
    "        raise NotImplementedError(\"define_geometry() is not implemented.\")\n",
    "\n",
    "    def define_biophysics(self):\n",
    "        raise NotImplementedError(\"define_biophysics() is not implemented.\")\n",
    "\n",
    "    def create_synapses(self):\n",
    "        raise NotImplementedError(\"create_synapses() is not implemented.\")\n",
    "    \n",
    "    # Here are something that will be commonly used by every cell\n",
    "    # built based on this template\n",
    "    \n",
    "    def connect2target(self, target, thresh=0):\n",
    "        \"\"\"Make a new NetCon with this cell's membrane\n",
    "        potential at the soma as the source (i.e. the spike detector)\n",
    "        onto the target passed in (i.e. a synapse on a cell).\n",
    "        Subclasses may override with other spike detectors.\"\"\"\n",
    "        nc = h.NetCon(self.soma(1)._ref_v, target, sec = self.soma)\n",
    "        nc.threshold = thresh\n",
    "        return nc"
   ]
  },
  {
   "cell_type": "code",
   "execution_count": null,
   "metadata": {
    "slideshow": {
     "slide_type": "subslide"
    },
    "tags": []
   },
   "outputs": [],
   "source": [
    "cell1 = Cell()"
   ]
  },
  {
   "cell_type": "code",
   "execution_count": null,
   "metadata": {
    "slideshow": {
     "slide_type": "subslide"
    },
    "tags": []
   },
   "outputs": [],
   "source": [
    "class ConnorStevens(Cell):\n",
    "    \n",
    "    def create_sections(self):\n",
    "        \"\"\"create a soma\"\"\"\n",
    "        self.soma = h.Section(name=\"soma\", cell=self)\n",
    "\n",
    "    def build_topology(self):\n",
    "        pass # single compartment\n",
    "    \n",
    "    def build_subsets(self):\n",
    "        pass # single compartment\n",
    "    \n",
    "    def define_geometry(self):\n",
    "        self.soma.L = 15\n",
    "        self.soma.diam = 15\n",
    "\n",
    "    def define_biophysics(self):\n",
    "        h.v_init = -65\n",
    "        self.soma.insert('conste')\n",
    "\n",
    "    def create_synapses(self):\n",
    "        self.synlist.append(h.Exp2Syn(self.soma(0.5))) # Excitatory\n",
    "        self.synlist[-1].e = 0\n",
    "        self.synlist[-1].tau1 = 0.1\n",
    "        self.synlist[-1].tau2 = 2.0\n",
    "        \n",
    "        self.synlist.append(h.Exp2Syn(self.soma(0.5))) # Inhibitory     \n",
    "        self.synlist[-1].e = -75\n",
    "        \n",
    "        # Here we use the same temporal parameters as excitatory synapses\n",
    "        self.synlist[-1].tau1 = 0.1\n",
    "        self.synlist[-1].tau2 = 2.0"
   ]
  },
  {
   "cell_type": "code",
   "execution_count": null,
   "metadata": {
    "slideshow": {
     "slide_type": "subslide"
    },
    "tags": []
   },
   "outputs": [],
   "source": [
    "cell1 = ConnorStevens() # this should work\n",
    "cell1.soma.psection()\n",
    "cell1.synlist[0].e"
   ]
  },
  {
   "cell_type": "markdown",
   "metadata": {
    "slideshow": {
     "slide_type": "slide"
    },
    "tags": []
   },
   "source": [
    "# 2. Network simulation\n",
    "\n",
    "**Make sure that you reset the kernel at this point.** \n",
    "\n",
    "Here we will show how organize the network simulation code by using classes and objects. We prepared the `Cell` class in `cell_template.py` and define the `ConnorStevens` once again using the class."
   ]
  },
  {
   "cell_type": "code",
   "execution_count": null,
   "metadata": {
    "slideshow": {
     "slide_type": "subslide"
    },
    "tags": []
   },
   "outputs": [],
   "source": [
    "from neuron import h, gui\n",
    "from neuron import load_mechanisms\n",
    "\n",
    "import numpy as np\n",
    "import matplotlib.pyplot as plt\n",
    "\n",
    "from cell_template import Cell\n",
    "\n",
    "class ConnorStevens(Cell):\n",
    "    \n",
    "    def create_sections(self):\n",
    "        \"\"\"create a soma\"\"\"\n",
    "        self.soma = h.Section(name=\"soma\", cell=self)\n",
    "\n",
    "    def build_topology(self):\n",
    "        pass # single compartment\n",
    "    \n",
    "    def build_subsets(self):\n",
    "        pass # single compartment\n",
    "    \n",
    "    def define_geometry(self):\n",
    "        self.soma.L = 15\n",
    "        self.soma.diam = 15\n",
    "\n",
    "    def define_biophysics(self):\n",
    "        h.v_init = -65\n",
    "        self.soma.insert('conste')\n",
    "\n",
    "    def create_synapses(self):\n",
    "        self.synlist.append(h.Exp2Syn(self.soma(0.5))) # Excitatory\n",
    "        self.synlist[-1].e = 0\n",
    "        self.synlist[-1].tau1 = 0.1\n",
    "        self.synlist[-1].tau2 = 2.0\n",
    "        \n",
    "        self.synlist.append(h.Exp2Syn(self.soma(0.5))) # Inhibitory     \n",
    "        self.synlist[-1].e = -75\n",
    "        \n",
    "        # Here we use the same temporal parameters as excitatory synapses\n",
    "        self.synlist[-1].tau1 = 0.1\n",
    "        self.synlist[-1].tau2 = 2.0"
   ]
  },
  {
   "cell_type": "markdown",
   "metadata": {
    "slideshow": {
     "slide_type": "subslide"
    },
    "tags": []
   },
   "source": [
    "Now, we will build a network model based on this cell type. The network contains 1000 cells and 20% of the neurons are inhibitory while the rest is excitatory. Each cell randomly pulls inputs from 10% of the excitatory and inhibitory cell population."
   ]
  },
  {
   "cell_type": "code",
   "execution_count": null,
   "metadata": {},
   "outputs": [],
   "source": [
    "Ncells = 1000                    # Number of cells\n",
    "Nexc = int((Ncells/5)*4)         # Excitatory cells = 80%\n",
    "Ninh = int(Ncells/5)             # Inhibitory cells = 20%\n",
    "nexcpre = int(Nexc*0.1)          # Presynaptic excitatory cells for each neuron = 10% of excitatory cells\n",
    "ninhpre = int(Ninh*0.1)  # Presynaptic inhibitory cells for each neuron = 10% of inhibitory cells\n",
    "\n",
    "print('Ncells =', Ncells, '\\nNexc =', Nexc, '\\nNinh =', Ninh, '\\nnexcpre =',nexcpre, '\\nninhpre =', ninhpre)"
   ]
  },
  {
   "cell_type": "markdown",
   "metadata": {},
   "source": [
    "We use `SerialNetManager` from `net_manager` module, which will make building, running, and saving the data easier."
   ]
  },
  {
   "cell_type": "code",
   "execution_count": null,
   "metadata": {
    "slideshow": {
     "slide_type": "subslide"
    },
    "tags": []
   },
   "outputs": [],
   "source": [
    "from net_manager import SerialNetManager\n",
    "\n",
    "pnm = SerialNetManager(Ncells)"
   ]
  },
  {
   "cell_type": "code",
   "execution_count": null,
   "metadata": {
    "slideshow": {
     "slide_type": "subslide"
    },
    "tags": []
   },
   "outputs": [],
   "source": [
    "for i in range(Ncells):\n",
    "    pnm.register_cell(i, ConnorStevens())"
   ]
  },
  {
   "cell_type": "markdown",
   "metadata": {
    "slideshow": {
     "slide_type": "subslide"
    },
    "tags": []
   },
   "source": [
    "Then, we connect an external stimulus to each neuron, which will *kickstart* the network activity."
   ]
  },
  {
   "cell_type": "code",
   "execution_count": null,
   "metadata": {},
   "outputs": [],
   "source": [
    "ics = []\n",
    "for i in range(Ncells):\n",
    "    ic = h.NetStimFD(pnm.gid2cell[i].soma(0.5))\n",
    "    ic.interval = 3\n",
    "    ic.noise = 1\n",
    "    ic.start = 0\n",
    "    ic.duration = 7\n",
    "    ic.seed(i+1223)\n",
    "    \n",
    "    nc = h.NetCon(ic, pnm.gid2cell[i].synlist[0])\n",
    "    nc.weight[0] = 5e-3\n",
    "    ics.append((ic, nc))\n"
   ]
  },
  {
   "cell_type": "markdown",
   "metadata": {},
   "source": [
    "Then we let the network manager know that we will record spikes from all the cells."
   ]
  },
  {
   "cell_type": "code",
   "execution_count": null,
   "metadata": {
    "slideshow": {
     "slide_type": "subslide"
    },
    "tags": []
   },
   "outputs": [],
   "source": [
    "pnm.want_all_spikes()"
   ]
  },
  {
   "cell_type": "markdown",
   "metadata": {},
   "source": [
    "We haven't wired the cells yet, but the neurons will fire with external stimuli. Let's try a short simulation!"
   ]
  },
  {
   "cell_type": "code",
   "execution_count": null,
   "metadata": {
    "slideshow": {
     "slide_type": "subslide"
    },
    "tags": []
   },
   "outputs": [],
   "source": [
    "h.tstop = 50\n",
    "h.init()\n",
    "pnm.run()"
   ]
  },
  {
   "cell_type": "code",
   "execution_count": null,
   "metadata": {
    "slideshow": {
     "slide_type": "subslide"
    },
    "tags": []
   },
   "outputs": [],
   "source": [
    "fig, ax = plt.subplots()\n",
    "ax.plot(pnm.spikevec, pnm.idvec, '.k')\n",
    "ax.set(xlabel='Time (ms)', ylabel='Neuron', xlim=[0, 50])"
   ]
  },
  {
   "cell_type": "markdown",
   "metadata": {
    "slideshow": {
     "slide_type": "subslide"
    },
    "tags": []
   },
   "source": [
    "Now we wire the cells:"
   ]
  },
  {
   "cell_type": "code",
   "execution_count": null,
   "metadata": {
    "slideshow": {
     "slide_type": "subslide"
    },
    "tags": []
   },
   "outputs": [],
   "source": [
    "gexc = 3e-3     # g_exc = 3 nS\n",
    "ginh = 5.*gexc   # g_inh/g_exc = 5\n",
    "\n",
    "# Reset all NetCon's\n",
    "pnm.nc_reset()\n",
    "\n",
    "# Go around every cell\n",
    "for i in range(Ncells):\n",
    "    \n",
    "    # Choose nexcpre cells from Nexc excitatory cells\n",
    "    exc_pre = np.random.randint(0, Nexc, nexcpre)\n",
    "    # Choose ninhpre cells from Ninh inhibitory cells\n",
    "    inh_pre = np.random.randint(Nexc, Ncells, ninhpre)\n",
    "\n",
    "    for k in exc_pre:\n",
    "        if i!=k:  # No self-connection\n",
    "            # pnm.nc_append(id_of_presyn_cell, id_of_postsyn_cell, synapse_id, syn_weight, propagation_delay, threshold)\n",
    "            pnm.nc_append(k, i, 0, gexc, 0.1, thresh=-10)\n",
    "\n",
    "    for k in inh_pre:\n",
    "        if i!=k:  # No self-connection\n",
    "            pnm.nc_append(k, i, 1, ginh, 0.1, thresh=-10)"
   ]
  },
  {
   "cell_type": "markdown",
   "metadata": {},
   "source": [
    "Let's run it!"
   ]
  },
  {
   "cell_type": "code",
   "execution_count": null,
   "metadata": {
    "slideshow": {
     "slide_type": "subslide"
    },
    "tags": []
   },
   "outputs": [],
   "source": [
    "h.tstop = 250\n",
    "h.init()\n",
    "pnm.run()"
   ]
  },
  {
   "cell_type": "code",
   "execution_count": null,
   "metadata": {
    "slideshow": {
     "slide_type": "subslide"
    },
    "tags": []
   },
   "outputs": [],
   "source": [
    "fig, ax = plt.subplots(figsize=(30, 10))\n",
    "ax.plot(pnm.spikevec, pnm.idvec, '.k')\n",
    "ax.set(xlim=[0, h.tstop])\n",
    "ax.set(xlabel='Time (ms)', ylabel='Neuron')"
   ]
  },
  {
   "cell_type": "markdown",
   "metadata": {
    "slideshow": {
     "slide_type": "subslide"
    },
    "tags": []
   },
   "source": [
    "Since the simulation becomes considerably slow, we may want to run it by using multiple cores and/or computers. In NEURON, we can do this by using the MPI-based parallelization, but we cannot run this in a notebook. So we will dump our simulation to a Python script, and run it instead."
   ]
  },
  {
   "cell_type": "code",
   "execution_count": null,
   "metadata": {
    "slideshow": {
     "slide_type": "subslide"
    },
    "tags": []
   },
   "outputs": [],
   "source": [
    "%%file parallel_simulation.py\n",
    "\n",
    "import numpy as np\n",
    "from neuron import h, gui\n",
    "\n",
    "\n",
    "from cell_template import Cell\n",
    "class ConnorStevens(Cell):\n",
    "\n",
    "    def __init__(self, i):\n",
    "        # We initialize the cell as in the `Cell` class.\n",
    "        super().__init__()\n",
    "        \n",
    "        # Then, we can add additional operations,\n",
    "        # such as giving each cell its own \"kickstart\" stimulator,\n",
    "        self.stim = []\n",
    "        self.stim.append(h.NetStimFD(self.soma(0.5)))\n",
    "        self.stim[-1].interval = 3\n",
    "        self.stim[-1].noise = 1\n",
    "        self.stim[-1].start = 0\n",
    "        self.stim[-1].duration = 7\n",
    "        self.stim[-1].seed(i+1223)\n",
    "\n",
    "        self.stim.append(h.NetCon(self.stim[0], self.synlist[0]))\n",
    "        self.stim[-1].weight[0] = 5e-3\n",
    "\n",
    "    def create_sections(self):\n",
    "        \"\"\"create a soma\"\"\"\n",
    "        self.soma = h.Section(name=\"soma\", cell=self)\n",
    "\n",
    "    def build_topology(self):\n",
    "        pass # single compartment\n",
    "\n",
    "    def build_subsets(self):\n",
    "        pass # single compartment\n",
    "\n",
    "    def define_geometry(self):\n",
    "        self.soma.L = 15\n",
    "        self.soma.diam = 15\n",
    "\n",
    "    def define_biophysics(self):\n",
    "        h.v_init = -65\n",
    "        self.soma.insert('conste')\n",
    "\n",
    "    def create_synapses(self):\n",
    "        self.synlist.append(h.Exp2Syn(self.soma(0.5))) # Excitatory\n",
    "        self.synlist[-1].tau1 = 0.1\n",
    "        self.synlist[-1].tau2 = 2.0\n",
    "        self.synlist[-1].e = 0\n",
    "\n",
    "        self.synlist.append(h.Exp2Syn(self.soma(0.5))) # Inhibitory\n",
    "        self.synlist[-1].e = -75\n",
    "        self.synlist[-1].tau1 = 0.1\n",
    "        self.synlist[-1].tau2 = 2.0\n",
    "\n",
    "\n",
    "Ncells = 1000                    # Number of cells\n",
    "Nexc = int((Ncells/5)*4)         # Excitatory cells = 80%\n",
    "Ninh = int(Ncells/5)             # Inhibitory cells = 20%\n",
    "nexcpre = int(Nexc*0.1)\n",
    "ninhpre = int(Ninh*0.1)\n",
    "\n",
    "\n",
    "from net_manager import ParallelNetManager # Note we are using the parallel version\n",
    "pnm = ParallelNetManager(Ncells)\n",
    "\n",
    "for i in range(Ncells):\n",
    "    pnm.register_cell(i, ConnorStevens(i))\n",
    "\n",
    "    \n",
    "gexc = 3e-3      # g_exc = 3 nS\n",
    "ginh = 5.*gexc   # g_inh/g_exc = 5\n",
    "\n",
    "\n",
    "for i in pnm.gidlist:\n",
    "    exc_pre = np.random.randint(0, Nexc, nexcpre)     # Randomly choose 10% of the exc cells\n",
    "    inh_pre = np.random.randint(Nexc, Ncells, ninhpre) # Randomly choose 10% of the inh cells\n",
    "\n",
    "    for k in exc_pre:\n",
    "        if i!=k:  # No self-connection\n",
    "            pnm.nc_append(k, i, 0, gexc, 0.1, thresh=-10)\n",
    "\n",
    "    for k in inh_pre:\n",
    "        if i!=k:  # No self-connection\n",
    "            pnm.nc_append(k, i, 1, ginh, 0.1, thresh=-10)\n",
    "\n",
    "pnm.want_all_spikes(thresh=-10)\n",
    "pnm.set_output_filename('spikes_1.dat')\n",
    "\n",
    "h.tstop = 250\n",
    "h.init()\n",
    "pnm.run()\n",
    "\n",
    "pnm.message(\"Simulation complete!\")\n",
    "\n",
    "h.quit()"
   ]
  },
  {
   "cell_type": "code",
   "execution_count": null,
   "metadata": {
    "slideshow": {
     "slide_type": "subslide"
    },
    "tags": []
   },
   "outputs": [],
   "source": [
    "%%bash\n",
    "\n",
    "mpiexec -n 4 python parallel_simulation.py"
   ]
  },
  {
   "cell_type": "code",
   "execution_count": null,
   "metadata": {
    "slideshow": {
     "slide_type": "subslide"
    },
    "tags": []
   },
   "outputs": [],
   "source": [
    "x = np.loadtxt('spikes_1.dat', delimiter=',')\n",
    "\n",
    "_, ax = plt.subplots(figsize=(30,10))\n",
    "ax.plot(x[:,0], x[:,1], '.k')\n",
    "ax.set(xlim=[0, 250])\n",
    "ax.set(xlabel='Time (ms)', ylabel='Neuron')"
   ]
  },
  {
   "cell_type": "markdown",
   "metadata": {
    "slideshow": {
     "slide_type": "slide"
    },
    "tags": []
   },
   "source": [
    "# 3. Analyzing data"
   ]
  },
  {
   "cell_type": "markdown",
   "metadata": {
    "slideshow": {
     "slide_type": "subslide"
    },
    "tags": []
   },
   "source": [
    "In most cases, we convert spike time data into spike train histograms with time bins."
   ]
  },
  {
   "cell_type": "code",
   "execution_count": null,
   "metadata": {},
   "outputs": [],
   "source": [
    "tstop = 250\n",
    "tc = np.arange(tstop+1)\n",
    "spikecount_all, _ = np.histogram(x[:,0], tc)\n",
    "t = tc[:-1]\n",
    "\n",
    "_, ax = plt.subplots(figsize=(20, 5))\n",
    "ax.step(t, spikecount_all, 'k')\n",
    "ax.set(xlim=[0, tstop], xlabel='time (ms)', ylabel='spikes')"
   ]
  },
  {
   "cell_type": "markdown",
   "metadata": {
    "slideshow": {
     "slide_type": "subslide"
    },
    "tags": []
   },
   "source": [
    "Making spike trains for individual neurons is also straightforward."
   ]
  },
  {
   "cell_type": "code",
   "execution_count": null,
   "metadata": {},
   "outputs": [],
   "source": [
    "spiketrain = np.zeros((spikecount_all.size, Ncells))\n",
    "\n",
    "for i in range(Ncells):\n",
    "    iselect = (x[:, 1] == i)\n",
    "    spiketrain[:, i], _ = np.histogram(x[iselect, 0], tc)\n",
    "    \n",
    "_, ax = plt.subplots(nrows=2, figsize=(20, 10), sharex=True)\n",
    "\n",
    "ax[0].step(t, spiketrain[:,10])\n",
    "ax[0].set(xlim=[0, tstop])\n",
    "\n",
    "ax[1].pcolormesh(t, np.arange(100), spiketrain[:,:100].T, cmap='hot_r')\n",
    "ax[1].set(xlim=[0, tstop],\n",
    "       xlabel='time (ms)',\n",
    "       ylabel='neuron')"
   ]
  },
  {
   "cell_type": "markdown",
   "metadata": {},
   "source": [
    "Noticing transient oscillations in our data, we can try analysis in a frequency domain."
   ]
  },
  {
   "cell_type": "code",
   "execution_count": null,
   "metadata": {
    "slideshow": {
     "slide_type": "subslide"
    },
    "tags": []
   },
   "outputs": [],
   "source": [
    "import scipy.signal\n",
    "\n",
    "freqs, tz, spectrogram = scipy.signal.spectrogram(\n",
    "    spikecount_all*1000,\n",
    "    fs=1000,\n",
    "    window=('tukey',0.25),\n",
    "    nperseg=30,\n",
    "    noverlap=29,\n",
    "    nfft=300\n",
    ")\n",
    "\n",
    "_, ax = plt.subplots(figsize=(20, 5))\n",
    "ax.pcolormesh(tz*1000, freqs, spectrogram,\n",
    "               cmap='hot_r')\n",
    "ax.set(title='Spectrogram',\n",
    "    ylabel='frequency (Hz)',\n",
    "    xlabel='time (ms)',\n",
    "    ylim=[0, 250],\n",
    "    xlim=[0, tstop])\n"
   ]
  },
  {
   "cell_type": "markdown",
   "metadata": {
    "slideshow": {
     "slide_type": "slide"
    },
    "tags": []
   },
   "source": [
    "# External inputs\n",
    "\n",
    "Neural networks are not isolated. They are always under influence of external inputs, and here we add two more cell groups that will deliver external inputs to our network.\n"
   ]
  },
  {
   "cell_type": "code",
   "execution_count": null,
   "metadata": {
    "slideshow": {
     "slide_type": "slide"
    },
    "tags": []
   },
   "outputs": [],
   "source": [
    "%%file parallel_simulation_2.py\n",
    "\n",
    "import numpy as np\n",
    "from neuron import h, gui\n",
    "\n",
    "from cell_template import Cell\n",
    "\n",
    "class ConnorStevens(Cell):\n",
    "    \n",
    "    def create_sections(self):\n",
    "        \"\"\"create a soma\"\"\"\n",
    "        self.soma = h.Section(name=\"soma\", cell=self)\n",
    "\n",
    "    def build_topology(self):\n",
    "        pass # single compartment\n",
    "\n",
    "    def build_subsets(self):\n",
    "        pass # single compartment\n",
    "\n",
    "    def define_geometry(self):\n",
    "        self.soma.L = 15\n",
    "        self.soma.diam = 15\n",
    "\n",
    "    def define_biophysics(self):\n",
    "        h.v_init = -65\n",
    "        self.soma.insert('wb')\n",
    "\n",
    "    def create_synapses(self):\n",
    "        self.synlist.append(h.Exp2Syn(self.soma(0.5))) # Excitatory\n",
    "        self.synlist[-1].tau2 = 0.1\n",
    "        self.synlist[-1].tau2 = 2.0\n",
    "        self.synlist[-1].e = 0\n",
    "\n",
    "        self.synlist.append(h.Exp2Syn(self.soma(0.5))) # Inhibitory\n",
    "        self.synlist[-1].e = -75\n",
    "        self.synlist[-1].tau1 = 0.1\n",
    "        self.synlist[-1].tau2 = 2.0\n",
    "\n",
    "        \n",
    "class NetworkCell(ConnorStevens):\n",
    "    def __init__(self, theta):\n",
    "        super().__init__()\n",
    "\n",
    "        # Note that each network cell has its own \"kickstart\" stimulator\n",
    "        self.stim = []\n",
    "        self.stim.append(h.NetStimFD(self.soma(0.5)))\n",
    "        self.stim[-1].interval = 3\n",
    "        self.stim[-1].noise = 1\n",
    "        self.stim[-1].start = 0\n",
    "        self.stim[-1].duration = 7\n",
    "        self.stim[-1].seed(i+1223)\n",
    "\n",
    "        self.stim.append(h.NetCon(self.stim[0], self.synlist[0]))\n",
    "        self.stim[-1].weight[0] = 1.5e-4\n",
    "\n",
    "\n",
    "class ExternalCell(ConnorStevens):\n",
    "    def __init__(self, i):\n",
    "        super().__init__()\n",
    "\n",
    "        # Each external cell has \n",
    "        self.stim = []\n",
    "        self.stim.append(h.NetStimFD(self.soma(0.5)))\n",
    "        self.stim[-1].interval = 5 # 20 Hz\n",
    "        self.stim[-1].noise = 1\n",
    "        self.stim[-1].start = 100\n",
    "        self.stim[-1].duration = 50\n",
    "        self.stim[-1].seed(i+209)\n",
    "\n",
    "        self.stim.append(h.NetCon(self.stim[-1], self.synlist[0]))\n",
    "        self.stim[-1].weight[0] = 5e-4\n",
    "\n",
    "\n",
    "Ncells = 1000                    # Number of cells\n",
    "Nexc = int((Ncells/5)*4)         # Excitatory cells = 80%\n",
    "Ninh = int(Ncells/5)             # Inhibitory cells = 20%\n",
    "nexcpre = int(Nexc*0.1)\n",
    "ninhpre = int(Ninh*0.1)\n",
    "\n",
    "Nleft = 100\n",
    "\n",
    "from net_manager import ParallelNetManager # Note we are using the parallel version\n",
    "pnm = ParallelNetManager(Ncells+Nleft)\n",
    "\n",
    "for i in range(Ncells):\n",
    "    pnm.register_cell(i, NetworkCell(i))\n",
    "\n",
    "for i in range(Nleft):\n",
    "    pnm.register_cell(i+Ncells, ExternalCell(i+Ncells))\n",
    "    \n",
    "gexc = 3e-5     # g_exc = 3 nS\n",
    "ginh = 10*gexc  # g_inh/g_exc = 10\n",
    "\n",
    "# Within network connectivity\n",
    "pcl = 0.65\n",
    "nexcpre1 = int(pcl*nexcpre)\n",
    "nexcpre2 = nexcpre - nexcpre1\n",
    "print(nexcpre1, nexcpre2)\n",
    "\n",
    "pcl = 0.55\n",
    "ninhpre1 = int(pcl*ninhpre)\n",
    "ninhpre2 = ninhpre - ninhpre1\n",
    "print(ninhpre1, ninhpre2)\n",
    "\n",
    "\n",
    "for i in pnm.gidlist:\n",
    "    if (i<Nexc/2):\n",
    "        exc_pre = np.random.randint(0, Nexc/2, nexcpre1)\n",
    "        for k in exc_pre:\n",
    "            if i!=k:  # No self-connection\n",
    "                pnm.nc_append(k, i, 0, gexc, 0.1, thresh=0)\n",
    "                \n",
    "        exc_pre = np.random.randint(Nexc/2, Nexc, nexcpre2)\n",
    "        for k in exc_pre:\n",
    "            if i!=k:  # No self-connection\n",
    "                pnm.nc_append(k, i, 0, gexc, 0.1, thresh=0)\n",
    "\n",
    "        inh_pre = np.random.randint(Nexc, Nexc+Ninh/2, ninhpre1)\n",
    "        for k in inh_pre:\n",
    "            if i!=k:  # No self-connection\n",
    "                pnm.nc_append(k, i, 1, ginh, 0.1, thresh=0)\n",
    "\n",
    "        inh_pre = np.random.randint(Nexc+Ninh/2, Ncells, ninhpre2) # Randomly choose 10% of the inh cells\n",
    "        for k in inh_pre:\n",
    "            if i!=k:  # No self-connection\n",
    "                pnm.nc_append(k, i, 1, ginh, 0.1, thresh=0)\n",
    "\n",
    "\n",
    "    if (i>=Nexc/2) and (i<Nexc):\n",
    "        exc_pre = np.random.randint(0, Nexc/2, nexcpre2)\n",
    "        for k in exc_pre:\n",
    "            if i!=k:  # No self-connection\n",
    "                pnm.nc_append(k, i, 0, gexc, 0.1, thresh=0)\n",
    "                \n",
    "        exc_pre = np.random.randint(Nexc/2, Nexc, nexcpre1)\n",
    "        for k in exc_pre:\n",
    "            if i!=k:  # No self-connection\n",
    "                pnm.nc_append(k, i, 0, gexc, 0.1, thresh=0)\n",
    "                \n",
    "        inh_pre = np.random.randint(Nexc, Nexc+Ninh/2, ninhpre2)\n",
    "        for k in inh_pre:\n",
    "            if i!=k:  # No self-connection\n",
    "                pnm.nc_append(k, i, 1, ginh, 0.1, thresh=0)\n",
    "\n",
    "        inh_pre = np.random.randint(Nexc+Ninh/2, Ncells, ninhpre1) # Randomly choose 10% of the inh cells\n",
    "        for k in inh_pre:\n",
    "            if i!=k:  # No self-connection\n",
    "                pnm.nc_append(k, i, 1, ginh, 0.1, thresh=0)\n",
    "                \n",
    "                \n",
    "    if (i>=Nexc) and (i<Nexc+Ninh/2): # Only network cells\n",
    "        exc_pre = np.random.randint(0, Nexc/2, nexcpre1)\n",
    "        for k in exc_pre:\n",
    "            if i!=k:  # No self-connection\n",
    "                pnm.nc_append(k, i, 0, gexc, 0.1, thresh=0)\n",
    "                \n",
    "        exc_pre = np.random.randint(Nexc/2, Nexc, nexcpre2)\n",
    "        for k in exc_pre:\n",
    "            if i!=k:  # No self-connection\n",
    "                pnm.nc_append(k, i, 0, gexc, 0.1, thresh=0)\n",
    "\n",
    "\n",
    "        inh_pre = np.random.randint(Nexc, Ncells, ninhpre) # Randomly choose 10% of the inh cells\n",
    "        for k in inh_pre:\n",
    "            if i!=k:  # No self-connection\n",
    "                pnm.nc_append(k, i, 1, ginh, 0.1, thresh=0)\n",
    "\n",
    "\n",
    "                \n",
    "    if (i>=Nexc+Ninh/2) and (i<Ncells): # Only network cells\n",
    "        exc_pre = np.random.randint(0, Nexc/2, nexcpre2)\n",
    "        for k in exc_pre:\n",
    "            if i!=k:  # No self-connection\n",
    "                pnm.nc_append(k, i, 0, gexc, 0.1, thresh=0)\n",
    "                \n",
    "        exc_pre = np.random.randint(Nexc/2, Nexc, nexcpre1)\n",
    "        for k in exc_pre:\n",
    "            if i!=k:  # No self-connection\n",
    "                pnm.nc_append(k, i, 0, gexc, 0.1, thresh=0)\n",
    "\n",
    "        inh_pre = np.random.randint(Nexc, Ncells, ninhpre) # Randomly choose 10% of the inh cells\n",
    "        for k in inh_pre:\n",
    "            if i!=k:  # No self-connection\n",
    "                pnm.nc_append(k, i, 1, ginh, 0.1, thresh=0)\n",
    "\n",
    "\n",
    "                \n",
    "n_ext = 4    # Each network cell in the Left group gets inputs from 10 external cells\n",
    "gext = 5e-5   # with the excitatory conductance of 3 nS\n",
    "\n",
    "for i in pnm.gidlist:\n",
    "    if (i<Nexc/2) or (i>=Nexc and i<(Nexc+Ninh/2)): # A half of the network cells\n",
    "        exc_pre = np.random.randint(Ncells, Ncells+Nleft, n_ext)     # Randomly choose next external cells\n",
    "\n",
    "        for k in exc_pre:\n",
    "            if i!=k:  # No self-connection\n",
    "                pnm.nc_append(k, i, 0, gext, 0.1, thresh=-10)\n",
    "\n",
    "# for i in pnm.gidlist:\n",
    "#     if (i>=Nexc/2 and i<Nexc) or (i>=(Nexc+Ninh/2) and i<Ncells): # A half of the network cells\n",
    "#         exc_pre = np.random.randint(Ncells+Nleft/3, Ncells+Nleft, n_ext)     # Randomly choose next external cells\n",
    "\n",
    "#         for k in exc_pre:\n",
    "#             if i!=k:  # No self-connection\n",
    "#                 pnm.nc_append(k, i, 0, gext, 0.1, thresh=-10)\n",
    "                \n",
    "\n",
    "pnm.want_all_spikes(thresh=-10)\n",
    "pnm.set_output_filename('spikes_2.dat')\n",
    "\n",
    "h.tstop = 500\n",
    "h.init()\n",
    "pnm.run()\n",
    "\n",
    "pnm.message(\"Simulation complete!\")\n",
    "\n",
    "h.quit()"
   ]
  },
  {
   "cell_type": "code",
   "execution_count": null,
   "metadata": {
    "slideshow": {
     "slide_type": "subslide"
    },
    "tags": []
   },
   "outputs": [],
   "source": [
    "%%bash\n",
    "\n",
    "mpiexec -n 4 python parallel_simulation_2.py"
   ]
  },
  {
   "cell_type": "code",
   "execution_count": null,
   "metadata": {
    "slideshow": {
     "slide_type": "subslide"
    },
    "tags": []
   },
   "outputs": [],
   "source": [
    "import matplotlib.pyplot as plt\n",
    "import numpy as np\n",
    "\n",
    "%matplotlib inline\n",
    "\n",
    "x = np.loadtxt('spikes_2.dat', delimiter=',')\n",
    "\n",
    "_, ax = plt.subplots(figsize=(12,5))\n",
    "ax.plot(x[:,0], x[:,1], '|k')\n",
    "ax.set(xlim=[0, 250], ylim=[0, 1050])\n",
    "ax.set(xlabel='Time (ms)', ylabel='Neuron')"
   ]
  },
  {
   "cell_type": "code",
   "execution_count": null,
   "metadata": {
    "slideshow": {
     "slide_type": "subslide"
    },
    "tags": []
   },
   "outputs": [],
   "source": [
    "Ncells = 1000\n",
    "tstop = 250\n",
    "tc = np.arange(250+1)\n",
    "t = tc[:-1]\n",
    "x = x[x[:,1]<1000,:] # work only with network cells\n",
    "spiketrain = np.zeros((250, Ncells))\n",
    " \n",
    "for i in range(Ncells):\n",
    "    iselect = (x[:, 1] == i)\n",
    "    spiketrain[:, i], _ = np.histogram(x[iselect, 0], tc)\n",
    "    \n",
    "_, ax = plt.subplots(nrows=1, sharex=True, figsize=(12, 5))\n",
    "ax = [ax]\n",
    "z = spiketrain[:,:400].mean(axis=1)*1000-spiketrain[:,400:800].mean(axis=1)*1000\n",
    "# z = z*(z>0)\n",
    "ax[0].step(t, spiketrain[:,:400].mean(axis=1)*1000, label=\"left\")\n",
    "ax[0].step(t, spiketrain[:,400:800].mean(axis=1)*1000, label=\"right\")\n",
    "# ax[0].step(t, z)\n",
    "ax[0].set(xlim=[0, tstop],\n",
    "       xlabel='time (ms)',\n",
    "       ylabel='rate (Hz)')\n",
    "plt.legend()"
   ]
  }
 ],
 "metadata": {
  "kernelspec": {
   "display_name": "Python 3",
   "language": "python",
   "name": "python3"
  },
  "language_info": {
   "codemirror_mode": {
    "name": "ipython",
    "version": 3
   },
   "file_extension": ".py",
   "mimetype": "text/x-python",
   "name": "python",
   "nbconvert_exporter": "python",
   "pygments_lexer": "ipython3",
   "version": "3.8.12"
  },
  "nteract": {
   "version": "0.22.4"
  }
 },
 "nbformat": 4,
 "nbformat_minor": 4
}
