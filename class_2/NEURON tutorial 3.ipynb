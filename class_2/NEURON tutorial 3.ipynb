{
 "cells": [
  {
   "cell_type": "markdown",
   "metadata": {
    "slideshow": {
     "slide_type": "slide"
    },
    "tags": []
   },
   "source": [
    "# Active mechanisms"
   ]
  },
  {
   "cell_type": "markdown",
   "metadata": {
    "slideshow": {
     "slide_type": "subslide"
    },
    "tags": []
   },
   "source": [
    "## NEURON (with Python)\n",
    "* NEURON documentation: https://www.neuron.yale.edu/neuron/static/py_doc/index.html\n",
    "* NEURON + Python tutorial: https://neuron.yale.edu/neuron/static/docs/neuronpython/index.html"
   ]
  },
  {
   "cell_type": "markdown",
   "metadata": {
    "slideshow": {
     "slide_type": "subslide"
    },
    "tags": []
   },
   "source": [
    "## NMODL\n",
    "* NEURON Extension to NMODL: https://www.neuron.yale.edu/neuron/static/py_doc/modelspec/programmatic/mechanisms/nmodl2.html\n",
    "* NMODL: https://www.neuron.yale.edu/neuron/static/py_doc/modelspec/programmatic/mechanisms/nmodl.html#nmodl"
   ]
  },
  {
   "cell_type": "markdown",
   "metadata": {
    "slideshow": {
     "slide_type": "slide"
    },
    "tags": []
   },
   "source": [
    "Now, we first load the necessary modules and create a single compartment cell,"
   ]
  },
  {
   "cell_type": "code",
   "execution_count": 1,
   "metadata": {},
   "outputs": [],
   "source": [
    "import neuron\n",
    "from neuron import h, gui\n",
    "\n",
    "import numpy as np\n",
    "import matplotlib.pyplot as plt"
   ]
  },
  {
   "cell_type": "code",
   "execution_count": 4,
   "metadata": {
    "slideshow": {
     "slide_type": "subslide"
    },
    "tags": []
   },
   "outputs": [],
   "source": [
    "# Single compartment cell\n",
    "soma = h.Section(name=\"soma\")\n",
    "soma.L = 20\n",
    "soma.diam = 20\n",
    "\n",
    "# Add a current clamp electrode\n",
    "ic = h.IClamp(soma(0.5))"
   ]
  },
  {
   "cell_type": "markdown",
   "metadata": {
    "slideshow": {
     "slide_type": "subslide"
    },
    "tags": []
   },
   "source": [
    "Then, we insert the \"hh2\" mechanism (in `mod.files/HH2.mod`) and check the cells,"
   ]
  },
  {
   "cell_type": "code",
   "execution_count": 5,
   "metadata": {
    "scrolled": false
   },
   "outputs": [
    {
     "data": {
      "text/plain": [
       "{'point_processes': {'IClamp': {IClamp[1]}},\n",
       " 'density_mechs': {'hh2': {'gnabar': [0.003],\n",
       "   'gkbar': [0.005],\n",
       "   'vtraub': [-63.0],\n",
       "   'm_inf': [0.0],\n",
       "   'h_inf': [0.0],\n",
       "   'n_inf': [0.0],\n",
       "   'tau_m': [0.0],\n",
       "   'tau_h': [0.0],\n",
       "   'tau_n': [0.0],\n",
       "   'm_exp': [0.0],\n",
       "   'h_exp': [0.0],\n",
       "   'n_exp': [0.0],\n",
       "   'm': [0.0],\n",
       "   'h': [0.0],\n",
       "   'n': [0.0]}},\n",
       " 'ions': {'na': {'ena': [50.0],\n",
       "   'nai': [10.0],\n",
       "   'nao': [140.0],\n",
       "   'ina': [0.0],\n",
       "   'dina_dv_': [0.0]},\n",
       "  'k': {'ek': [-77.0],\n",
       "   'ki': [54.4],\n",
       "   'ko': [2.5],\n",
       "   'ik': [0.0],\n",
       "   'dik_dv_': [0.0]}},\n",
       " 'morphology': {'L': 20.0,\n",
       "  'diam': [20.0],\n",
       "  'pts3d': [],\n",
       "  'parent': None,\n",
       "  'trueparent': None},\n",
       " 'nseg': 1,\n",
       " 'Ra': 35.4,\n",
       " 'cm': [1.0],\n",
       " 'regions': set(),\n",
       " 'species': set(),\n",
       " 'name': 'soma',\n",
       " 'hoc_internal_name': '__nrnsec_0x7fd7e0cc0060',\n",
       " 'cell': None}"
      ]
     },
     "execution_count": 5,
     "metadata": {},
     "output_type": "execute_result"
    }
   ],
   "source": [
    "soma.insert(\"hh2\")\n",
    "soma.psection()"
   ]
  },
  {
   "cell_type": "code",
   "execution_count": 6,
   "metadata": {
    "slideshow": {
     "slide_type": "subslide"
    },
    "tags": []
   },
   "outputs": [],
   "source": [
    "# Prepare a simulation for 300 ms,\n",
    "h.tstop = 500\n",
    "\n",
    "# Current injection of 10 pA for 200 ms\n",
    "ic.delay = 50\n",
    "ic.dur = 300\n",
    "ic.amp = 0.005 # 5 pA"
   ]
  },
  {
   "cell_type": "code",
   "execution_count": 7,
   "metadata": {},
   "outputs": [
    {
     "data": {
      "text/plain": [
       "Vector[4]"
      ]
     },
     "execution_count": 7,
     "metadata": {},
     "output_type": "execute_result"
    }
   ],
   "source": [
    "# We set the temperature to 35°C to simulate a mammalian neuron,\n",
    "h.celsius = 35\n",
    "\n",
    "# Record the time and voltage,\n",
    "dt_rec = 0.1\n",
    "t = h.Vector()\n",
    "v = h.Vector()\n",
    "t.record(h._ref_t, 0.1)\n",
    "v.record(soma(0.5)._ref_v, dt_rec)"
   ]
  },
  {
   "cell_type": "markdown",
   "metadata": {
    "slideshow": {
     "slide_type": "subslide"
    }
   },
   "source": [
    "Here, we add a `NetCon` object that will monitor the membrane potential of the cell and detect events with `v` crossing -20 mV. Since this `NetCon` does not need to deliver events to anything else, we connect it to `None`. Then, we can record the event times to a vector, which lets us to record spike times, detected by a voltage threshold."
   ]
  },
  {
   "cell_type": "code",
   "execution_count": null,
   "metadata": {},
   "outputs": [],
   "source": [
    "nc = h.NetCon(soma(0.5)._ref_v, None, -20, 0, 1)\n",
    "tspike = h.Vector()\n",
    "nc.record(tspike)"
   ]
  },
  {
   "cell_type": "code",
   "execution_count": 8,
   "metadata": {
    "slideshow": {
     "slide_type": "subslide"
    }
   },
   "outputs": [
    {
     "data": {
      "text/plain": [
       "[Text(0.5, 0, 'time (ms)'), Text(0, 0.5, 'v (mv)')]"
      ]
     },
     "execution_count": 8,
     "metadata": {},
     "output_type": "execute_result"
    },
    {
     "data": {
      "image/png": "[encoded data removed]",
      "text/plain": [
       "<Figure size 432x288 with 1 Axes>"
      ]
     },
     "metadata": {
      "needs_background": "light"
     },
     "output_type": "display_data"
    }
   ],
   "source": [
    "# Run the simulation and plot the result\n",
    "\n",
    "h.run()\n",
    "\n",
    "_, ax = plt.subplots()\n",
    "\n",
    "ax.plot(t, v)\n",
    "ax.set(xlabel=\"time (ms)\", ylabel = \"v (mv)\")\n"
   ]
  },
  {
   "cell_type": "markdown",
   "metadata": {
    "slideshow": {
     "slide_type": "subslide"
    }
   },
   "source": [
    "Here We print the spike times. Note that we used `.as_numpy` to transform a NEURON `Vector` to a numpy array"
   ]
  },
  {
   "cell_type": "code",
   "execution_count": null,
   "metadata": {},
   "outputs": [],
   "source": [
    "print(tspike.as_numpy())"
   ]
  },
  {
   "cell_type": "markdown",
   "metadata": {
    "slideshow": {
     "slide_type": "slide"
    }
   },
   "source": [
    "## Pyramidal cell example\n",
    "\n",
    "Now let's simulate the fully active pyramidal cell model. **Please make sure that you restart the kernel at this point.**"
   ]
  },
  {
   "cell_type": "code",
   "execution_count": null,
   "metadata": {},
   "outputs": [],
   "source": [
    "import neuron\n",
    "from neuron import h, gui\n",
    "import libcell\n",
    "\n",
    "import numpy as np\n",
    "import matplotlib.pyplot as plt"
   ]
  },
  {
   "cell_type": "markdown",
   "metadata": {
    "slideshow": {
     "slide_type": "subslide"
    }
   },
   "source": [
    "First we defined a passive cell,"
   ]
  },
  {
   "cell_type": "code",
   "execution_count": null,
   "metadata": {},
   "outputs": [],
   "source": [
    "cell = libcell.L23()"
   ]
  },
  {
   "cell_type": "markdown",
   "metadata": {
    "slideshow": {
     "slide_type": "subslide"
    }
   },
   "source": [
    "And then, we call a function in `libcell.py` to embed active mechanisms everywhere,`"
   ]
  },
  {
   "cell_type": "code",
   "execution_count": null,
   "metadata": {},
   "outputs": [],
   "source": [
    "libcell.init_active(cell, axon=True, soma=True, dend=True, dendNa=True, dendCa=True)\n",
    "cell.soma.psection()"
   ]
  },
  {
   "cell_type": "markdown",
   "metadata": {
    "slideshow": {
     "slide_type": "subslide"
    }
   },
   "source": [
    "To test the excitability of the cell, we add a current clamp electrode at soma,"
   ]
  },
  {
   "cell_type": "code",
   "execution_count": null,
   "metadata": {},
   "outputs": [],
   "source": [
    "ic = h.IClamp(cell.soma(0.5))"
   ]
  },
  {
   "cell_type": "markdown",
   "metadata": {
    "slideshow": {
     "slide_type": "subslide"
    }
   },
   "source": [
    "Let's define a function to do a virtual current clamp experiment,"
   ]
  },
  {
   "cell_type": "code",
   "execution_count": null,
   "metadata": {},
   "outputs": [],
   "source": [
    "def do_current_clamp(current_injected):\n",
    "    \n",
    "    # should not forget setting the temperature...\n",
    "    h.celsius = 35\n",
    "    \n",
    "    # Simulation length = 300 ms\n",
    "    h.tstop = 300\n",
    "\n",
    "    # Current injection for 200 ms\n",
    "    ic.delay = 50\n",
    "    ic.dur = 200\n",
    "    ic.amp = current_injected\n",
    "\n",
    "\n",
    "    dt_rec = 0.1\n",
    "    t = h.Vector()\n",
    "    v = h.Vector()\n",
    "    v.record(cell.soma(1)._ref_v, dt_rec)\n",
    "    t.record(h._ref_t, dt_rec)\n",
    "\n",
    "    # We set the initial voltage to -75 mV and run the simulation\n",
    "    h.v_init = -75\n",
    "    h.init()\n",
    "    h.run()\n",
    "    \n",
    "    # Here we plot the result\n",
    "    _, ax = plt.subplots()\n",
    "\n",
    "    ax.plot(t, v)\n",
    "    ax.set(xlabel=\"time (ms)\", ylabel = \"v (mv)\")"
   ]
  },
  {
   "cell_type": "code",
   "execution_count": null,
   "metadata": {
    "slideshow": {
     "slide_type": "subslide"
    }
   },
   "outputs": [],
   "source": [
    "do_current_clamp(0.1) # 100 pA injection; the cell is still in a subthreshold regime"
   ]
  },
  {
   "cell_type": "code",
   "execution_count": null,
   "metadata": {
    "slideshow": {
     "slide_type": "subslide"
    }
   },
   "outputs": [],
   "source": [
    "do_current_clamp(0.35) # 350 pA injection will give you spikes"
   ]
  },
  {
   "cell_type": "markdown",
   "metadata": {
    "slideshow": {
     "slide_type": "slide"
    }
   },
   "source": [
    "### Adding synapses\n",
    "\n",
    "Here we will add some synapses to the cell. These functions are copied from `libcell.py` and modified to connect each synapse to external artificial spike generators."
   ]
  },
  {
   "cell_type": "code",
   "execution_count": null,
   "metadata": {},
   "outputs": [],
   "source": [
    "def add_AMPAsyns(model, locs, stims, gmax=1, tau1=0.5, tau2=1):\n",
    "    \"\"\"inserts AMPA synapses into model at locs and connect them to stims.\n",
    "    locs is a list of lists containing two numbers, such as [[0, 0.5]]. The first\n",
    "    number denotes which dendritic compartement the synapse will be located\n",
    "    and the second is a relative coordinate. For example, [[0, 0.5]] will embed\n",
    "    one synapse at model.dends[0](0.5). gmax is a maximal conductance in uS.\n",
    "    tau1 and tau2 are a rising and decay time constant in ms.\n",
    "    \"\"\"\n",
    "    # we store synapses and NetCons in a list\n",
    "    model.AMPAlist = []\n",
    "    model.ncAMPAlist = []\n",
    "    \n",
    "    # set in nS and convert to muS\n",
    "    gmax = gmax/1000.\n",
    "    \n",
    "    for loc, stim in zip(locs, stims):\n",
    "        # an AMPA synapse is `Exp2Syn` with a reversal potential = 0 mV\n",
    "        AMPA = h.Exp2Syn(float(loc[1]), sec=model.dends[int(loc[0])])\n",
    "        AMPA.tau1 = tau1\n",
    "        AMPA.tau2 = tau2\n",
    "        \n",
    "        # connect stim to the synapse\n",
    "        NC = h.NetCon(stim, AMPA, 0, 0, gmax)\n",
    "        model.AMPAlist.append(AMPA)\n",
    "        model.ncAMPAlist.append(NC)"
   ]
  },
  {
   "cell_type": "code",
   "execution_count": null,
   "metadata": {
    "slideshow": {
     "slide_type": "subslide"
    }
   },
   "outputs": [],
   "source": [
    "def add_NMDAsyns(model, locs, stims, gmax=1, tau1=2, tau2=20):\n",
    "    \"\"\"inserts NMDA synapses into model at locs and connect them to stims.\"\"\"\n",
    "    model.NMDAlist = []\n",
    "    model.ncNMDAlist = []\n",
    "    gmax = gmax/1000.   # Set in nS and convert to muS\n",
    "    for loc, stim in zip(locs, stims):\n",
    "        # an NMDA synapse\n",
    "        NMDA = h.Exp2SynNMDA(float(loc[1]), sec=model.dends[int(loc[0])])\n",
    "        NMDA.tau1 = tau1\n",
    "        NMDA.tau2 = tau2\n",
    "        NC = h.NetCon(stim, NMDA, 0, 0, gmax)\n",
    "        x = float(loc[1])\n",
    "        model.NMDAlist.append(NMDA)\n",
    "        model.ncNMDAlist.append(NC)"
   ]
  },
  {
   "cell_type": "code",
   "execution_count": null,
   "metadata": {
    "slideshow": {
     "slide_type": "subslide"
    }
   },
   "outputs": [],
   "source": [
    "def add_GABAsyns(model, locs, stims, gmax=0.5, tau1=0.1, tau2=4, rev=-80):\n",
    "    \"\"\"insetrs GABA synapses into model at locs and connect them to stims.\"\"\"\n",
    "    model.GABAlist = []\n",
    "    model.ncGABAlist = []\n",
    "    gmax = gmax/1000.   # Set in nS and convert to muS\n",
    "    for loc, stim in zip(locs, stims):\n",
    "        # a GABA synapse is `Exp2Syn` with a reversal potential = rev mV \n",
    "        # (default value = -80 mV)\n",
    "        GABA = h.Exp2Syn(float(loc[1]), sec=model.dends[int(loc[0])])\n",
    "        GABA.tau1 = tau1\n",
    "        GABA.tau2 = tau2\n",
    "        GABA.e = rev\n",
    "        NC = h.NetCon(stim, GABA, 0, 0, gmax)\n",
    "        model.GABAlist.append(GABA)\n",
    "        model.ncGABAlist.append(NC)"
   ]
  },
  {
   "cell_type": "markdown",
   "metadata": {
    "slideshow": {
     "slide_type": "subslide"
    }
   },
   "source": [
    "Lets add an AMPA+NMDA synapse at cell.dend\\[0\\](0.5) and connect it to an artificial spike generator."
   ]
  },
  {
   "cell_type": "code",
   "execution_count": null,
   "metadata": {},
   "outputs": [],
   "source": [
    "# location = cell.dend[0](0.5)\n",
    "locs = [[0, 0.5]]\n",
    "\n",
    "# spiking frequency = 10 Hz, ISI = 1000/10 = 100 ms\n",
    "fexc = 10\n",
    "\n",
    "exc_stims = []\n",
    "for loc in locs:\n",
    "    exc_stims.append(h.NetStimFD()) # An articifial spike generator\n",
    "    exc_stims[-1].noise = 0 # no noise\n",
    "    exc_stims[-1].start = 150 # start from 150 ms\n",
    "    exc_stims[-1].duration = h.tstop\n",
    "    exc_stims[-1].interval = 1000./fexc # set ISI\n",
    "\n",
    "# Add an AMPA synapse connected to exc_stims\n",
    "add_AMPAsyns(cell, locs, exc_stims)\n",
    "# Add an NMDA synapse at the same location, also connected to exc_stims\n",
    "add_NMDAsyns(cell, locs, exc_stims)\n"
   ]
  },
  {
   "cell_type": "code",
   "execution_count": null,
   "metadata": {
    "slideshow": {
     "slide_type": "subslide"
    }
   },
   "outputs": [],
   "source": [
    "do_current_clamp(0.0) # Run a simulation with no current injection"
   ]
  },
  {
   "cell_type": "markdown",
   "metadata": {
    "slideshow": {
     "slide_type": "subslide"
    }
   },
   "source": [
    "Now let's try many more synapses, inserted at random locations! We first make a function to create random locations in the cell's dendrites."
   ]
  },
  {
   "cell_type": "code",
   "execution_count": null,
   "metadata": {},
   "outputs": [],
   "source": [
    "def genRandomLocs(model, nsyn):\n",
    "    \"\"\"generates nsyn random locations distributed in model.dends.\"\"\"\n",
    "    locs = []\n",
    "    for s in np.arange(0,nsyn):\n",
    "        dend = np.random.randint(low=0, high=len(model.dends))\n",
    "        pos = np.random.uniform()\n",
    "        locs.append([dend, pos])\n",
    "    return locs"
   ]
  },
  {
   "cell_type": "markdown",
   "metadata": {
    "slideshow": {
     "slide_type": "subslide"
    }
   },
   "source": [
    "And then, we create 100 excitatory and 20 inhibitory synapse locations."
   ]
  },
  {
   "cell_type": "code",
   "execution_count": null,
   "metadata": {},
   "outputs": [],
   "source": [
    "n_exc = 100\n",
    "n_inh = 20\n",
    "\n",
    "exc_locs = genRandomLocs(cell, n_exc)\n",
    "inh_locs = genRandomLocs(cell, n_inh)\n",
    "inh_locs"
   ]
  },
  {
   "cell_type": "markdown",
   "metadata": {
    "slideshow": {
     "slide_type": "subslide"
    }
   },
   "source": [
    "We connect the excitatory synapses to spike generators, Poisson firing at 10 Hz. The inhibitory ones will be connected to another set of spike generators firing at 40 Hz."
   ]
  },
  {
   "cell_type": "code",
   "execution_count": null,
   "metadata": {},
   "outputs": [],
   "source": [
    "# excitatory stims\n",
    "fexc = 10 # 10 Hz\n",
    "exc_stims = []\n",
    "for loc in exc_locs:\n",
    "    exc_stims.append(h.NetStimFD())\n",
    "    exc_stims[-1].noise = 1 # maximally noisy stimulus\n",
    "    exc_stims[-1].start = 0 # start from 0\n",
    "    exc_stims[-1].duration = h.tstop\n",
    "    exc_stims[-1].interval = 1000./fexc\n",
    "\n",
    "add_AMPAsyns(cell, exc_locs, exc_stims)\n",
    "add_NMDAsyns(cell, exc_locs, exc_stims)\n",
    "\n",
    "\n",
    "# inhibitory stims\n",
    "finh = 40 # 40 Hz\n",
    "inh_stims = []\n",
    "for loc in inh_locs:\n",
    "    inh_stims.append(h.NetStimFD())\n",
    "    inh_stims[-1].noise = 1 # maximally noisy stimulus\n",
    "    inh_stims[-1].start = 0 # start from 0\n",
    "    inh_stims[-1].duration = h.tstop\n",
    "    inh_stims[-1].interval = 1000./fexc\n",
    "\n",
    "add_GABAsyns(cell, inh_locs, inh_stims)"
   ]
  },
  {
   "cell_type": "code",
   "execution_count": null,
   "metadata": {
    "slideshow": {
     "slide_type": "subslide"
    }
   },
   "outputs": [],
   "source": [
    "do_current_clamp(-0.1) # Run a simulation with no current injection"
   ]
  }
 ],
 "metadata": {
  "@webio": {
   "lastCommId": null,
   "lastKernelId": null
  },
  "kernel_info": {
   "name": "python3"
  },
  "kernelspec": {
   "display_name": "Python 3",
   "language": "python",
   "name": "python3"
  },
  "language_info": {
   "codemirror_mode": {
    "name": "ipython",
    "version": 3
   },
   "file_extension": ".py",
   "mimetype": "text/x-python",
   "name": "python",
   "nbconvert_exporter": "python",
   "pygments_lexer": "ipython3",
   "version": "3.8.12"
  },
  "nteract": {
   "version": "0.12.3"
  }
 },
 "nbformat": 4,
 "nbformat_minor": 4
}
