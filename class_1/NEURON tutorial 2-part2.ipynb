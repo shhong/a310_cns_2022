{
 "cells": [
  {
   "cell_type": "markdown",
   "metadata": {
    "slideshow": {
     "slide_type": "slide"
    }
   },
   "source": [
    "# Building a network\n",
    "\n",
    "Network construction in NEURON follows the following steps:\n",
    "\n",
    "1. Prepare neurons (morphology, mechanisms, etc.) and external stimuli if necessary,\n",
    "2. Embed synapse objects in each neuron,\n",
    "3. Connect the neurons to the synapses via [NetCon](https://www.neuron.yale.edu/neuron/static/py_doc/modelspec/programmatic/network/netcon.html),\n",
    "4. Set up recordings,\n",
    "5. Run the simulation.\n",
    "\n",
    "![](./imgs/net_construction.png)\n",
    "\n",
    "\n",
    "Here we demonstrate two simple networks with one pyramidal neuron and one or two external stimuli."
   ]
  },
  {
   "cell_type": "markdown",
   "metadata": {
    "slideshow": {
     "slide_type": "slide"
    }
   },
   "source": [
    "## 2. 1 Pyramidal cell + 1 stimulus\n",
    "\n",
    "Again, we start from importing the NEURON and cell module."
   ]
  },
  {
   "cell_type": "code",
   "execution_count": null,
   "metadata": {
    "scrolled": true
   },
   "outputs": [],
   "source": [
    "import numpy as np\n",
    "import matplotlib.pyplot as plt\n",
    "from neuron import h, gui\n",
    "import libcell\n",
    "\n",
    "cell = libcell.L23()"
   ]
  },
  {
   "cell_type": "markdown",
   "metadata": {
    "slideshow": {
     "slide_type": "subslide"
    }
   },
   "source": [
    "Here we open a session that embeds a synapse object called [Exp2Syn](https://www.neuron.yale.edu/neuron/static/py_doc/modelspec/programmatic/mechanisms/mech.html?highlight=exp2syn#Exp2Syn)."
   ]
  },
  {
   "cell_type": "code",
   "execution_count": null,
   "metadata": {},
   "outputs": [],
   "source": [
    "h.xopen(\"one_syn.ses\")"
   ]
  },
  {
   "cell_type": "code",
   "execution_count": null,
   "metadata": {},
   "outputs": [],
   "source": [
    "print('tau1 = {} ms\\ntau2 = {} ms'.format(\n",
    "        h.Exp2Syn[0].tau1, h.Exp2Syn[0].tau2))"
   ]
  },
  {
   "cell_type": "markdown",
   "metadata": {
    "slideshow": {
     "slide_type": "subslide"
    }
   },
   "source": [
    "Again we define our run function:"
   ]
  },
  {
   "cell_type": "code",
   "execution_count": null,
   "metadata": {},
   "outputs": [],
   "source": [
    "def run(tstop=250):\n",
    "    \"\"\"runs a simulation and returns the membrane potential recording at the soma.\"\"\"\n",
    "    dt = 0.1 # Again we use 10kHz sampling rate, e.g. 0.1 ms interval\n",
    "    vrec = h.Vector() # The recording will be save in this vector\n",
    "    vrec.record(cell.soma(0.5)._ref_v, dt)\n",
    "    \n",
    "    h.tstop = tstop  # Set how long the simulation will run.\n",
    "    h.init()\n",
    "    h.run()\n",
    "    \n",
    "    return vrec.c() # Should return a copy of the vector"
   ]
  },
  {
   "cell_type": "markdown",
   "metadata": {
    "slideshow": {
     "slide_type": "subslide"
    }
   },
   "source": [
    "However, nothing happens during our simulation since there is no input connected to the synapse."
   ]
  },
  {
   "cell_type": "code",
   "execution_count": null,
   "metadata": {},
   "outputs": [],
   "source": [
    "vrec = run()\n",
    "\n",
    "fig, ax = plt.subplots()\n",
    "ax.plot(np.arange(2500)*0.1, vrec)"
   ]
  },
  {
   "cell_type": "markdown",
   "metadata": {
    "slideshow": {
     "slide_type": "subslide"
    }
   },
   "source": [
    "Therefore, we prepare an artificial spike generator called [NetStim](https://www.neuron.yale.edu/neuron/static/py_doc/modelspec/programmatic/mechanisms/mech.html?highlight=netstim#NetStim) and connect this to `h.Exp2Syn[0]` by a `NetCon` object."
   ]
  },
  {
   "cell_type": "code",
   "execution_count": null,
   "metadata": {},
   "outputs": [],
   "source": [
    "# Check out the documentation for what the parameters are\n",
    "stim = h.NetStim()\n",
    "stim.start = 50\n",
    "stim.number = 5\n",
    "stim.interval = 5\n",
    "stim.noise = 0\n",
    "\n",
    "# Connect stim to our synapse\n",
    "nc = h.NetCon(stim, h.Exp2Syn[0])"
   ]
  },
  {
   "cell_type": "markdown",
   "metadata": {
    "slideshow": {
     "slide_type": "subslide"
    }
   },
   "source": [
    "Nothing happens yet since the synaptic conductance is 0. We set this to a non-zero value:"
   ]
  },
  {
   "cell_type": "code",
   "execution_count": null,
   "metadata": {},
   "outputs": [],
   "source": [
    "nc.weight[0] = 0.01 # 0.01 nS = 10 pS of the synaptic conductance"
   ]
  },
  {
   "cell_type": "code",
   "execution_count": null,
   "metadata": {},
   "outputs": [],
   "source": [
    "vrec = run()\n",
    "\n",
    "fig, ax = plt.subplots()\n",
    "t = np.arange(vrec.size())*0.1\n",
    "ax.plot(t, vrec)\n",
    "ax.set(xlabel=\"time (ms)\", ylabel=\"voltage (mV)\")"
   ]
  },
  {
   "cell_type": "markdown",
   "metadata": {
    "slideshow": {
     "slide_type": "subslide"
    }
   },
   "source": [
    "Now we see EPSPs triggered by spikes from `stim`."
   ]
  },
  {
   "cell_type": "code",
   "execution_count": null,
   "metadata": {},
   "outputs": [],
   "source": [
    "stim.start = 50\n",
    "stim.number = 5\n",
    "stim.interval = 40\n",
    "stim.noise = 1"
   ]
  },
  {
   "cell_type": "markdown",
   "metadata": {
    "slideshow": {
     "slide_type": "slide"
    }
   },
   "source": [
    "## 1 Pyramidal cell + 2 stimuli\n",
    "\n",
    "Again, we start from importing the NEURON and cell module **after restarting the kernel**:"
   ]
  },
  {
   "cell_type": "code",
   "execution_count": null,
   "metadata": {
    "slideshow": {
     "slide_type": "subslide"
    }
   },
   "outputs": [],
   "source": [
    "import numpy as np\n",
    "import matplotlib.pyplot as plt\n",
    "from neuron import h, gui\n",
    "import libcell"
   ]
  },
  {
   "cell_type": "code",
   "execution_count": null,
   "metadata": {},
   "outputs": [],
   "source": [
    "cell = libcell.L23()"
   ]
  },
  {
   "cell_type": "markdown",
   "metadata": {
    "slideshow": {
     "slide_type": "subslide"
    }
   },
   "source": [
    "We import a session with two synapses, `h.Exp2Syn[0]` and `h.Exp2Syn[1]`."
   ]
  },
  {
   "cell_type": "code",
   "execution_count": null,
   "metadata": {},
   "outputs": [],
   "source": [
    "h.xopen(\"two_syns.ses\")"
   ]
  },
  {
   "cell_type": "markdown",
   "metadata": {
    "slideshow": {
     "slide_type": "subslide"
    }
   },
   "source": [
    "Here we put the spike generators and NetCons in lists:"
   ]
  },
  {
   "cell_type": "code",
   "execution_count": null,
   "metadata": {},
   "outputs": [],
   "source": [
    "stim = []\n",
    "nc = []\n",
    "for i in range(2):\n",
    "    stim.append(h.NetStim())\n",
    "    stim[i].start = 50\n",
    "    stim[i].number = 1\n",
    "    stim[i].noise = 0\n",
    "    \n",
    "    nc.append(h.NetCon(stim[i], h.Exp2Syn[i]))\n",
    "    nc[i].weight[0] = 0.01"
   ]
  },
  {
   "cell_type": "code",
   "execution_count": null,
   "metadata": {
    "slideshow": {
     "slide_type": "subslide"
    }
   },
   "outputs": [],
   "source": [
    "def run(tstop=250):\n",
    "    \"\"\"runs a simulation and returns the membrane potential recording at the soma.\"\"\"\n",
    "    dt = 0.1 # Again we use 10kHz sampling rate, e.g. 0.1 ms interval\n",
    "    vrec = h.Vector() # The recording will be save in this vector\n",
    "    vrec.record(h.soma(0.5)._ref_v, dt)\n",
    "    \n",
    "    h.tstop = tstop  # Set how long the simulation will run.\n",
    "    h.init()\n",
    "    h.run()\n",
    "    \n",
    "    return vrec.c() # Should return a copy of the vector"
   ]
  },
  {
   "cell_type": "code",
   "execution_count": null,
   "metadata": {
    "slideshow": {
     "slide_type": "subslide"
    }
   },
   "outputs": [],
   "source": [
    "stim[1].start = 150\n",
    "\n",
    "vrec = run()\n",
    "\n",
    "fig, ax = plt.subplots()\n",
    "t = np.arange(vrec.size())*0.1\n",
    "ax.plot(t, vrec)\n",
    "ax.set(xlabel=\"time (ms)\", ylabel=\"voltage (mV)\")"
   ]
  },
  {
   "cell_type": "code",
   "execution_count": null,
   "metadata": {
    "slideshow": {
     "slide_type": "subslide"
    }
   },
   "outputs": [],
   "source": [
    "sec = h.Exp2Syn[0].get_segment().sec\n",
    "sec"
   ]
  },
  {
   "cell_type": "markdown",
   "metadata": {
    "slideshow": {
     "slide_type": "subslide"
    }
   },
   "source": [
    "Here we move the second synapse close to the first, make it inhibitory, slow decaying, and early activating:"
   ]
  },
  {
   "cell_type": "code",
   "execution_count": null,
   "metadata": {},
   "outputs": [],
   "source": [
    "h.Exp2Syn[1].loc(sec(0.1))\n",
    "h.Exp2Syn[1].e = -75\n",
    "h.Exp2Syn[1].tau2 = 100\n",
    "\n",
    "stim[1].start = 100"
   ]
  },
  {
   "cell_type": "code",
   "execution_count": null,
   "metadata": {
    "slideshow": {
     "slide_type": "subslide"
    }
   },
   "outputs": [],
   "source": [
    "vrec = run()\n",
    "\n",
    "fig, ax = plt.subplots()\n",
    "t = np.arange(vrec.size())*0.1\n",
    "ax.plot(t, vrec)\n",
    "ax.set(xlabel=\"time (ms)\", ylabel=\"voltage (mV)\")"
   ]
  },
  {
   "cell_type": "markdown",
   "metadata": {
    "slideshow": {
     "slide_type": "subslide"
    }
   },
   "source": [
    "Note that the EPSP amplitude decreased due to *shunting* by the inhibitory synapse."
   ]
  },
  {
   "cell_type": "markdown",
   "metadata": {
    "slideshow": {
     "slide_type": "slide"
    }
   },
   "source": [
    "## 1 Pyramidal cell + 2 synapses driven by random spike trains\n",
    "\n",
    "Again, we start from importing the NEURON and cell module **after restarting the kernel**:"
   ]
  },
  {
   "cell_type": "code",
   "execution_count": null,
   "metadata": {},
   "outputs": [],
   "source": [
    "import numpy as np\n",
    "import matplotlib.pyplot as plt\n",
    "from neuron import h, gui\n",
    "import libcell\n",
    "\n",
    "cell = libcell.L23()\n",
    "\n",
    "h.xopen(\"two_syns.ses\")"
   ]
  },
  {
   "cell_type": "markdown",
   "metadata": {
    "slideshow": {
     "slide_type": "subslide"
    }
   },
   "source": [
    "Again, we make the second synapse *inhibitory*:"
   ]
  },
  {
   "cell_type": "code",
   "execution_count": null,
   "metadata": {},
   "outputs": [],
   "source": [
    "h.Exp2Syn[1].e = -76\n",
    "h.Exp2Syn[1].tau2 = 10"
   ]
  },
  {
   "cell_type": "markdown",
   "metadata": {
    "slideshow": {
     "slide_type": "subslide"
    }
   },
   "source": [
    "Here we put the spike generators and NetCons in lists:"
   ]
  },
  {
   "cell_type": "code",
   "execution_count": null,
   "metadata": {
    "slideshow": {
     "slide_type": "subslide"
    }
   },
   "outputs": [],
   "source": [
    "stim = []\n",
    "nc = []\n",
    "for i in range(2):\n",
    "    stim.append(h.NetStim())\n",
    "    stim[i].start = 0\n",
    "    stim[i].number = 10000\n",
    "    stim[i].interval = 10 # 10 ms interval -> 1000/10 = 100 Hz firing\n",
    "    stim[i].noise = 0\n",
    "    \n",
    "    nc.append(h.NetCon(stim[i], h.Exp2Syn[i]))\n",
    "    nc[i].weight[0] = 0.01"
   ]
  },
  {
   "cell_type": "code",
   "execution_count": null,
   "metadata": {
    "slideshow": {
     "slide_type": "subslide"
    }
   },
   "outputs": [],
   "source": [
    "def run(tstop=250):\n",
    "    \"\"\"runs a simulation and returns the membrane potential recording at the soma.\"\"\"\n",
    "    dt = 0.1 # Again we use 10kHz sampling rate, e.g. 0.1 ms interval\n",
    "    vrec = h.Vector() # The recording will be save in this vector\n",
    "    vrec.record(h.soma(0.5)._ref_v, dt)\n",
    "    \n",
    "    h.tstop = tstop  # Set how long the simulation will run.\n",
    "    h.init()\n",
    "    h.run()\n",
    "    \n",
    "    return vrec.c() # Should return a copy of the vector"
   ]
  },
  {
   "cell_type": "code",
   "execution_count": null,
   "metadata": {
    "slideshow": {
     "slide_type": "subslide"
    }
   },
   "outputs": [],
   "source": [
    "vrec = run()\n",
    "\n",
    "fig, ax = plt.subplots()\n",
    "t = np.arange(vrec.size())*0.1\n",
    "ax.plot(t, vrec)\n",
    "ax.set(xlabel=\"Time (ms)\", ylabel=\"Voltage (mV)\")"
   ]
  },
  {
   "cell_type": "code",
   "execution_count": null,
   "metadata": {
    "slideshow": {
     "slide_type": "subslide"
    }
   },
   "outputs": [],
   "source": [
    "for i in range(2):\n",
    "    stim[i].noise = 1\n",
    "    stim[i].interval = 5 # 1000/50 = 20 Hz firing\n",
    "\n",
    "vrec = run(tstop=250)\n",
    "\n",
    "fig, ax = plt.subplots()\n",
    "t = np.arange(vrec.size())*0.1\n",
    "ax.plot(t, vrec)\n",
    "ax.set(xlabel=\"Time (ms)\", ylabel=\"Voltage (mV)\")"
   ]
  }
 ],
 "metadata": {
  "@webio": {
   "lastCommId": null,
   "lastKernelId": null
  },
  "celltoolbar": "Slideshow",
  "kernel_info": {
   "name": "python3"
  },
  "kernelspec": {
   "display_name": "Python 3",
   "language": "python",
   "name": "python3"
  },
  "language_info": {
   "codemirror_mode": {
    "name": "ipython",
    "version": 3
   },
   "file_extension": ".py",
   "mimetype": "text/x-python",
   "name": "python",
   "nbconvert_exporter": "python",
   "pygments_lexer": "ipython3",
   "version": "3.8.12"
  },
  "nteract": {
   "version": "0.12.3"
  }
 },
 "nbformat": 4,
 "nbformat_minor": 4
}
