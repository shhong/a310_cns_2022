{
 "cells": [
  {
   "cell_type": "markdown",
   "metadata": {
    "slideshow": {
     "slide_type": "slide"
    },
    "tags": []
   },
   "source": [
    "# Active mechanisms"
   ]
  },
  {
   "cell_type": "markdown",
   "metadata": {
    "slideshow": {
     "slide_type": "subslide"
    },
    "tags": []
   },
   "source": [
    "## NEURON (with Python)\n",
    "* NEURON documentation: https://www.neuron.yale.edu/neuron/static/py_doc/index.html\n",
    "* NEURON + Python tutorial: https://neuron.yale.edu/neuron/static/docs/neuronpython/index.html"
   ]
  },
  {
   "cell_type": "markdown",
   "metadata": {
    "slideshow": {
     "slide_type": "subslide"
    },
    "tags": []
   },
   "source": [
    "## NMODL\n",
    "* NEURON Extension to NMODL: https://www.neuron.yale.edu/neuron/static/py_doc/modelspec/programmatic/mechanisms/nmodl2.html\n",
    "* NMODL: https://www.neuron.yale.edu/neuron/static/py_doc/modelspec/programmatic/mechanisms/nmodl.html#nmodl"
   ]
  },
  {
   "cell_type": "markdown",
   "metadata": {
    "slideshow": {
     "slide_type": "subslide"
    },
    "tags": []
   },
   "source": [
    "### How to compile mechanisms:\n",
    "1. `nrnivmodl mod.files` in Terminal (or `cd mod.files; nrnivmodl`), OR\n",
    "2. Use `mknrndll.app` (or equivalent apps in Windows or Linux)."
   ]
  },
  {
   "cell_type": "code",
   "execution_count": 4,
   "metadata": {},
   "outputs": [
    {
     "name": "stdout",
     "output_type": "stream",
     "text": [
      "/usr/bin/xcrun\n",
      "/Users/shhong/Dropbox/CNS_course/2022/a310_cns_2022/class_3/mod.files\n",
      "-n Mod files:\n",
      "-n  \"./CaT.mod\"\n",
      "-n  \"./ConnorStevens.mod\"\n",
      "-n  \"./HH2.mod\"\n",
      "-n  \"./ca.mod\"\n",
      "-n  \"./caL3d.mod\"\n",
      "-n  \"./cad.mod\"\n",
      "-n  \"./exp2synNMDA.mod\"\n",
      "-n  \"./h.mod\"\n",
      "-n  \"./kca.mod\"\n",
      "-n  \"./kir.mod\"\n",
      "-n  \"./km.mod\"\n",
      "-n  \"./kv.mod\"\n",
      "-n  \"./mease.mod\"\n",
      "-n  \"./na.mod\"\n",
      "-n  \"./netstim2.mod\"\n",
      "-n  \"./wb.mod\"\n",
      "\n",
      "\n",
      "Creating x86_64 directory for .o files.\n",
      "\n",
      "COBJS=''\n",
      " -> \u001b[32mCompiling\u001b[0m mod_func.c\n",
      " -> \u001b[32mNMODL\u001b[0m .././CaT.mod\n",
      "(cd \"../.\"; MODLUNIT=/opt/anaconda3/lib/python3.8/site-packages/neuron/.data/share/nrn/lib/nrnunits.lib /opt/anaconda3/lib/python3.8/site-packages/neuron/.data/bin/nocmodl CaT.mod -o \"/Users/shhong/Dropbox/CNS_course/2022/a310_cns_2022/class_3/mod.files/x86_64\")\n",
      " -> \u001b[32mNMODL\u001b[0m .././ConnorStevens.mod\n",
      "gcc -O2   -I.   -I/opt/anaconda3/lib/python3.8/site-packages/neuron/.data/include  -I/usr/local/Cellar/open-mpi/4.1.2/include -fPIC -c mod_func.c -o mod_func.o\n",
      " -> \u001b[32mNMODL\u001b[0m .././HH2.mod\n",
      "(cd \"../.\"; MODLUNIT=/opt/anaconda3/lib/python3.8/site-packages/neuron/.data/share/nrn/lib/nrnunits.lib /opt/anaconda3/lib/python3.8/site-packages/neuron/.data/bin/nocmodl HH2.mod -o \"/Users/shhong/Dropbox/CNS_course/2022/a310_cns_2022/class_3/mod.files/x86_64\")\n",
      "(cd \"../.\"; MODLUNIT=/opt/anaconda3/lib/python3.8/site-packages/neuron/.data/share/nrn/lib/nrnunits.lib /opt/anaconda3/lib/python3.8/site-packages/neuron/.data/bin/nocmodl ConnorStevens.mod -o \"/Users/shhong/Dropbox/CNS_course/2022/a310_cns_2022/class_3/mod.files/x86_64\")\n",
      "Warning: Default 36 of PARAMETER celsius will be ignored and set by NEURON.\n",
      "Warning: Default -90 of PARAMETER ek will be ignored and set by NEURON.\n",
      "Warning: Default 50 of PARAMETER ena will be ignored and set by NEURON.\n",
      "Warning: Default -72 of PARAMETER ek will be ignored and set by NEURON.\n",
      "Warning: Default 55 of PARAMETER ena will be ignored and set by NEURON.\n",
      " -> \u001b[32mNMODL\u001b[0m .././ca.mod\n",
      " -> \u001b[32mNMODL\u001b[0m .././caL3d.mod\n",
      " -> \u001b[32mNMODL\u001b[0m .././cad.mod\n",
      "(cd \"../.\"; MODLUNIT=/opt/anaconda3/lib/python3.8/site-packages/neuron/.data/share/nrn/lib/nrnunits.lib /opt/anaconda3/lib/python3.8/site-packages/neuron/.data/bin/nocmodl ca.mod -o \"/Users/shhong/Dropbox/CNS_course/2022/a310_cns_2022/class_3/mod.files/x86_64\")\n",
      "(cd \"../.\"; MODLUNIT=/opt/anaconda3/lib/python3.8/site-packages/neuron/.data/share/nrn/lib/nrnunits.lib /opt/anaconda3/lib/python3.8/site-packages/neuron/.data/bin/nocmodl cad.mod -o \"/Users/shhong/Dropbox/CNS_course/2022/a310_cns_2022/class_3/mod.files/x86_64\")\n",
      "(cd \"../.\"; MODLUNIT=/opt/anaconda3/lib/python3.8/site-packages/neuron/.data/share/nrn/lib/nrnunits.lib /opt/anaconda3/lib/python3.8/site-packages/neuron/.data/bin/nocmodl caL3d.mod -o \"/Users/shhong/Dropbox/CNS_course/2022/a310_cns_2022/class_3/mod.files/x86_64\")\n",
      " -> \u001b[32mNMODL\u001b[0m .././exp2synNMDA.mod\n",
      " -> \u001b[32mNMODL\u001b[0m .././h.mod\n",
      "(cd \"../.\"; MODLUNIT=/opt/anaconda3/lib/python3.8/site-packages/neuron/.data/share/nrn/lib/nrnunits.lib /opt/anaconda3/lib/python3.8/site-packages/neuron/.data/bin/nocmodl exp2synNMDA.mod -o \"/Users/shhong/Dropbox/CNS_course/2022/a310_cns_2022/class_3/mod.files/x86_64\")\n",
      " -> \u001b[32mNMODL\u001b[0m .././kca.mod\n",
      "(cd \"../.\"; MODLUNIT=/opt/anaconda3/lib/python3.8/site-packages/neuron/.data/share/nrn/lib/nrnunits.lib /opt/anaconda3/lib/python3.8/site-packages/neuron/.data/bin/nocmodl h.mod -o \"/Users/shhong/Dropbox/CNS_course/2022/a310_cns_2022/class_3/mod.files/x86_64\")\n",
      "(cd \"../.\"; MODLUNIT=/opt/anaconda3/lib/python3.8/site-packages/neuron/.data/share/nrn/lib/nrnunits.lib /opt/anaconda3/lib/python3.8/site-packages/neuron/.data/bin/nocmodl kca.mod -o \"/Users/shhong/Dropbox/CNS_course/2022/a310_cns_2022/class_3/mod.files/x86_64\")\n",
      " -> \u001b[32mNMODL\u001b[0m .././kir.mod\n",
      "(cd \"../.\"; MODLUNIT=/opt/anaconda3/lib/python3.8/site-packages/neuron/.data/share/nrn/lib/nrnunits.lib /opt/anaconda3/lib/python3.8/site-packages/neuron/.data/bin/nocmodl kir.mod -o \"/Users/shhong/Dropbox/CNS_course/2022/a310_cns_2022/class_3/mod.files/x86_64\")\n",
      " -> \u001b[32mNMODL\u001b[0m .././km.mod\n",
      " -> \u001b[32mNMODL\u001b[0m .././kv.mod\n",
      "(cd \"../.\"; MODLUNIT=/opt/anaconda3/lib/python3.8/site-packages/neuron/.data/share/nrn/lib/nrnunits.lib /opt/anaconda3/lib/python3.8/site-packages/neuron/.data/bin/nocmodl km.mod -o \"/Users/shhong/Dropbox/CNS_course/2022/a310_cns_2022/class_3/mod.files/x86_64\")\n",
      "(cd \"../.\"; MODLUNIT=/opt/anaconda3/lib/python3.8/site-packages/neuron/.data/share/nrn/lib/nrnunits.lib /opt/anaconda3/lib/python3.8/site-packages/neuron/.data/bin/nocmodl kv.mod -o \"/Users/shhong/Dropbox/CNS_course/2022/a310_cns_2022/class_3/mod.files/x86_64\")\n",
      " -> \u001b[32mNMODL\u001b[0m .././mease.mod\n",
      " -> \u001b[32mNMODL\u001b[0m .././na.mod\n",
      "(cd \"../.\"; MODLUNIT=/opt/anaconda3/lib/python3.8/site-packages/neuron/.data/share/nrn/lib/nrnunits.lib /opt/anaconda3/lib/python3.8/site-packages/neuron/.data/bin/nocmodl mease.mod -o \"/Users/shhong/Dropbox/CNS_course/2022/a310_cns_2022/class_3/mod.files/x86_64\")\n",
      "(cd \"../.\"; MODLUNIT=/opt/anaconda3/lib/python3.8/site-packages/neuron/.data/share/nrn/lib/nrnunits.lib /opt/anaconda3/lib/python3.8/site-packages/neuron/.data/bin/nocmodl na.mod -o \"/Users/shhong/Dropbox/CNS_course/2022/a310_cns_2022/class_3/mod.files/x86_64\")\n",
      "Warning: Default -77 of PARAMETER ek will be ignored and set by NEURON.\n",
      "Warning: Default 50 of PARAMETER ena will be ignored and set by NEURON.\n",
      " -> \u001b[32mNMODL\u001b[0m .././netstim2.mod\n",
      " -> \u001b[32mNMODL\u001b[0m .././wb.mod\n",
      "(cd \"../.\"; MODLUNIT=/opt/anaconda3/lib/python3.8/site-packages/neuron/.data/share/nrn/lib/nrnunits.lib /opt/anaconda3/lib/python3.8/site-packages/neuron/.data/bin/nocmodl netstim2.mod -o \"/Users/shhong/Dropbox/CNS_course/2022/a310_cns_2022/class_3/mod.files/x86_64\")\n",
      "(cd \"../.\"; MODLUNIT=/opt/anaconda3/lib/python3.8/site-packages/neuron/.data/share/nrn/lib/nrnunits.lib /opt/anaconda3/lib/python3.8/site-packages/neuron/.data/bin/nocmodl wb.mod -o \"/Users/shhong/Dropbox/CNS_course/2022/a310_cns_2022/class_3/mod.files/x86_64\")\n",
      " -> \u001b[32mCompiling\u001b[0m CaT.c\n",
      "gcc -O2   -I\"../.\" -I.   -I/opt/anaconda3/lib/python3.8/site-packages/neuron/.data/include  -I/usr/local/Cellar/open-mpi/4.1.2/include -fPIC -c CaT.c -o CaT.o\n",
      " -> \u001b[32mCompiling\u001b[0m ConnorStevens.c\n",
      "gcc -O2   -I\"../.\" -I.   -I/opt/anaconda3/lib/python3.8/site-packages/neuron/.data/include  -I/usr/local/Cellar/open-mpi/4.1.2/include -fPIC -c ConnorStevens.c -o ConnorStevens.o\n",
      "Notice: ARTIFICIAL_CELL is a synonym for POINT_PROCESS which hints that it\n",
      "only affects and is affected by discrete events. As such it is not\n",
      "located in a section and is not associated with an integrator\n",
      " -> \u001b[32mCompiling\u001b[0m HH2.c\n",
      " -> \u001b[32mCompiling\u001b[0m ca.c\n",
      "gcc -O2   -I\"../.\" -I.   -I/opt/anaconda3/lib/python3.8/site-packages/neuron/.data/include  -I/usr/local/Cellar/open-mpi/4.1.2/include -fPIC -c HH2.c -o HH2.o\n",
      "gcc -O2   -I\"../.\" -I.   -I/opt/anaconda3/lib/python3.8/site-packages/neuron/.data/include  -I/usr/local/Cellar/open-mpi/4.1.2/include -fPIC -c ca.c -o ca.o\n",
      " -> \u001b[32mCompiling\u001b[0m caL3d.c\n",
      "gcc -O2   -I\"../.\" -I.   -I/opt/anaconda3/lib/python3.8/site-packages/neuron/.data/include  -I/usr/local/Cellar/open-mpi/4.1.2/include -fPIC -c caL3d.c -o caL3d.o\n",
      " -> \u001b[32mCompiling\u001b[0m cad.c\n",
      "gcc -O2   -I\"../.\" -I.   -I/opt/anaconda3/lib/python3.8/site-packages/neuron/.data/include  -I/usr/local/Cellar/open-mpi/4.1.2/include -fPIC -c cad.c -o cad.o\n",
      " -> \u001b[32mCompiling\u001b[0m exp2synNMDA.c\n",
      "gcc -O2   -I\"../.\" -I.   -I/opt/anaconda3/lib/python3.8/site-packages/neuron/.data/include  -I/usr/local/Cellar/open-mpi/4.1.2/include -fPIC -c exp2synNMDA.c -o exp2synNMDA.o\n",
      " -> \u001b[32mCompiling\u001b[0m h.c\n",
      "gcc -O2   -I\"../.\" -I.   -I/opt/anaconda3/lib/python3.8/site-packages/neuron/.data/include  -I/usr/local/Cellar/open-mpi/4.1.2/include -fPIC -c h.c -o h.o\n",
      " -> \u001b[32mCompiling\u001b[0m kca.c\n",
      "gcc -O2   -I\"../.\" -I.   -I/opt/anaconda3/lib/python3.8/site-packages/neuron/.data/include  -I/usr/local/Cellar/open-mpi/4.1.2/include -fPIC -c kca.c -o kca.o\n",
      " -> \u001b[32mCompiling\u001b[0m kir.c\n",
      "gcc -O2   -I\"../.\" -I.   -I/opt/anaconda3/lib/python3.8/site-packages/neuron/.data/include  -I/usr/local/Cellar/open-mpi/4.1.2/include -fPIC -c kir.c -o kir.o\n",
      " -> \u001b[32mCompiling\u001b[0m km.c\n",
      "gcc -O2   -I\"../.\" -I.   -I/opt/anaconda3/lib/python3.8/site-packages/neuron/.data/include  -I/usr/local/Cellar/open-mpi/4.1.2/include -fPIC -c km.c -o km.o\n",
      " -> \u001b[32mCompiling\u001b[0m kv.c\n",
      "gcc -O2   -I\"../.\" -I.   -I/opt/anaconda3/lib/python3.8/site-packages/neuron/.data/include  -I/usr/local/Cellar/open-mpi/4.1.2/include -fPIC -c kv.c -o kv.o\n",
      " -> \u001b[32mCompiling\u001b[0m mease.c\n",
      "gcc -O2   -I\"../.\" -I.   -I/opt/anaconda3/lib/python3.8/site-packages/neuron/.data/include  -I/usr/local/Cellar/open-mpi/4.1.2/include -fPIC -c mease.c -o mease.o\n",
      " -> \u001b[32mCompiling\u001b[0m na.c\n",
      "gcc -O2   -I\"../.\" -I.   -I/opt/anaconda3/lib/python3.8/site-packages/neuron/.data/include  -I/usr/local/Cellar/open-mpi/4.1.2/include -fPIC -c na.c -o na.o\n",
      " -> \u001b[32mCompiling\u001b[0m netstim2.c\n",
      "gcc -O2   -I\"../.\" -I.   -I/opt/anaconda3/lib/python3.8/site-packages/neuron/.data/include  -I/usr/local/Cellar/open-mpi/4.1.2/include -fPIC -c netstim2.c -o netstim2.o\n",
      " -> \u001b[32mCompiling\u001b[0m wb.c\n",
      "gcc -O2   -I\"../.\" -I.   -I/opt/anaconda3/lib/python3.8/site-packages/neuron/.data/include  -I/usr/local/Cellar/open-mpi/4.1.2/include -fPIC -c wb.c -o wb.o\n",
      " => \u001b[32mLINKING\u001b[0m shared library ./libnrnmech.dylib\n",
      "g++ -O2 -DVERSION_INFO='8.0.2' -std=c++11 -dynamiclib -Wl,-headerpad_max_install_names -undefined dynamic_lookup -fPIC  -I /opt/anaconda3/lib/python3.8/site-packages/neuron/.data/include -o ./libnrnmech.dylib -Wl,-install_name,@rpath/libnrnmech.dylib \\\n",
      "\t  ./mod_func.o ./CaT.o ./ConnorStevens.o ./HH2.o ./ca.o ./caL3d.o ./cad.o ./exp2synNMDA.o ./h.o ./kca.o ./kir.o ./km.o ./kv.o ./mease.o ./na.o ./netstim2.o ./wb.o  -L/opt/anaconda3/lib/python3.8/site-packages/neuron/.data/lib -lnrniv -Wl,-rpath,/opt/anaconda3/lib/python3.8/site-packages/neuron/.data/lib    -lreadline\n",
      "rm -f ./.libs/libnrnmech.so ; mkdir -p ./.libs ; cp ./libnrnmech.dylib ./.libs/libnrnmech.so\n",
      "Successfully created x86_64/special\n"
     ]
    },
    {
     "name": "stderr",
     "output_type": "stream",
     "text": [
      "Translating CaT.mod into /Users/shhong/Dropbox/CNS_course/2022/a310_cns_2022/class_3/mod.files/x86_64/CaT.c\n",
      "Translating ConnorStevens.mod into /Users/shhong/Dropbox/CNS_course/2022/a310_cns_2022/class_3/mod.files/x86_64/ConnorStevens.c\n",
      "Translating HH2.mod into /Users/shhong/Dropbox/CNS_course/2022/a310_cns_2022/class_3/mod.files/x86_64/HH2.c\n",
      "Notice: VERBATIM blocks are not thread safe\n",
      "Notice: VERBATIM blocks are not thread safe\n",
      "Notice: This mechanism cannot be used with CVODE\n",
      "Notice: This mechanism cannot be used with CVODE\n",
      "Thread Safe\n",
      "Translating cad.mod into /Users/shhong/Dropbox/CNS_course/2022/a310_cns_2022/class_3/mod.files/x86_64/cad.c\n",
      "Translating ca.mod into /Users/shhong/Dropbox/CNS_course/2022/a310_cns_2022/class_3/mod.files/x86_64/ca.c\n",
      "Translating caL3d.mod into /Users/shhong/Dropbox/CNS_course/2022/a310_cns_2022/class_3/mod.files/x86_64/caL3d.c\n",
      "Notice: Assignment to the GLOBAL variable, \"tadj\", is not thread safe\n",
      "NEURON's CVode method ignores conservation\n",
      "Notice: Assignment to the GLOBAL variable, \"tadj\", is not thread safe\n",
      "Thread Safe\n",
      "Translating exp2synNMDA.mod into /Users/shhong/Dropbox/CNS_course/2022/a310_cns_2022/class_3/mod.files/x86_64/exp2synNMDA.c\n",
      "Translating kca.mod into /Users/shhong/Dropbox/CNS_course/2022/a310_cns_2022/class_3/mod.files/x86_64/kca.c\n",
      "Translating h.mod into /Users/shhong/Dropbox/CNS_course/2022/a310_cns_2022/class_3/mod.files/x86_64/h.c\n",
      "Translating kir.mod into /Users/shhong/Dropbox/CNS_course/2022/a310_cns_2022/class_3/mod.files/x86_64/kir.c\n",
      "Thread Safe\n",
      "Thread Safe\n",
      "Notice: Assignment to the GLOBAL variable, \"linf\", is not thread safe\n",
      "Notice: Assignment to the GLOBAL variable, \"taul\", is not thread safe\n",
      "Notice: Assignment to the GLOBAL variable, \"tadj\", is not thread safe\n",
      "Translating km.mod into /Users/shhong/Dropbox/CNS_course/2022/a310_cns_2022/class_3/mod.files/x86_64/km.c\n",
      "Translating mease.mod into /Users/shhong/Dropbox/CNS_course/2022/a310_cns_2022/class_3/mod.files/x86_64/mease.c\n",
      "Translating kv.mod into /Users/shhong/Dropbox/CNS_course/2022/a310_cns_2022/class_3/mod.files/x86_64/kv.c\n",
      "Translating na.mod into /Users/shhong/Dropbox/CNS_course/2022/a310_cns_2022/class_3/mod.files/x86_64/na.c\n",
      "Notice: Assignment to the GLOBAL variable, \"tadj\", is not thread safe\n",
      "Notice: Assignment to the GLOBAL variable, \"tadj\", is not thread safe\n",
      "Thread Safe\n",
      "Notice: Assignment to the GLOBAL variable, \"tadj\", is not thread safe\n",
      "Translating wb.mod into /Users/shhong/Dropbox/CNS_course/2022/a310_cns_2022/class_3/mod.files/x86_64/wb.c\n",
      "Translating netstim2.mod into /Users/shhong/Dropbox/CNS_course/2022/a310_cns_2022/class_3/mod.files/x86_64/netstim2.c\n",
      "WARNING: m (a STATE) is assigned a value in a DERIVATIVE block.\n",
      " Multistep integrators (such as Runge) may not work correctly.\n",
      "Thread Safe\n",
      "Thread Safe\n"
     ]
    }
   ],
   "source": [
    "%%bash\n",
    "cd mod.files\n",
    "nrnivmodl ."
   ]
  },
  {
   "cell_type": "markdown",
   "metadata": {
    "slideshow": {
     "slide_type": "subslide"
    },
    "tags": []
   },
   "source": [
    "### How to load mechanisms:\n",
    "1. Place `x86_64` directory in the same directory as the simulation, OR\n",
    "2. Use \"File\" -> \"load dll\" in GUI, OR\n",
    "3. Use `neuron.load_mechanisms('directory name')`.\n"
   ]
  },
  {
   "cell_type": "markdown",
   "metadata": {
    "slideshow": {
     "slide_type": "slide"
    },
    "tags": []
   },
   "source": [
    "Now, we first load the necessary modules and create a single compartment cell,"
   ]
  },
  {
   "cell_type": "code",
   "execution_count": 5,
   "metadata": {
    "tags": []
   },
   "outputs": [],
   "source": [
    "import neuron\n",
    "from neuron import h, gui\n",
    "neuron.load_mechanisms(\"mod.files\")\n",
    "\n",
    "import numpy as np\n",
    "import matplotlib.pyplot as plt"
   ]
  },
  {
   "cell_type": "code",
   "execution_count": 6,
   "metadata": {
    "slideshow": {
     "slide_type": "subslide"
    },
    "tags": []
   },
   "outputs": [],
   "source": [
    "# Single compartment cell\n",
    "soma = h.Section(name=\"soma\")\n",
    "soma.L = 20\n",
    "soma.diam = 20\n",
    "\n",
    "# Add a current clamp electrode\n",
    "ic = h.IClamp(soma(0.5))"
   ]
  },
  {
   "cell_type": "markdown",
   "metadata": {
    "slideshow": {
     "slide_type": "subslide"
    },
    "tags": []
   },
   "source": [
    "Then, we insert the \"hh2\" mechanism (in `mod.files/HH2.mod`) and check the cells,"
   ]
  },
  {
   "cell_type": "code",
   "execution_count": 7,
   "metadata": {},
   "outputs": [
    {
     "name": "stdout",
     "output_type": "stream",
     "text": [
      "soma { nseg=1  L=20  Ra=35.4\n",
      "\t/*location 0 attached to cell 0*/\n",
      "\t/* First segment only */\n",
      "\tinsert morphology { diam=20}\n",
      "\tinsert capacitance { cm=1}\n",
      "\tinsert IClamp { del=0 dur=0 amp=0}\n",
      "\tinsert hh2 { gnabar_hh2=0.003 gkbar_hh2=0.005 vtraub_hh2=-63}\n",
      "\tinsert na_ion { ena=50}\n",
      "\tinsert k_ion { ek=-77}\n",
      "}\n"
     ]
    },
    {
     "data": {
      "text/plain": [
       "1.0"
      ]
     },
     "execution_count": 7,
     "metadata": {},
     "output_type": "execute_result"
    }
   ],
   "source": [
    "soma.insert(\"hh2\")\n",
    "h.psection()"
   ]
  },
  {
   "cell_type": "code",
   "execution_count": 11,
   "metadata": {
    "slideshow": {
     "slide_type": "subslide"
    },
    "tags": []
   },
   "outputs": [],
   "source": [
    "# Prepare a simulation for 300 ms,\n",
    "h.tstop = 500\n",
    "\n",
    "# Current injection of 10 pA for 200 ms\n",
    "ic.delay = 50\n",
    "ic.dur = 300\n",
    "ic.amp = 0.005 # 5 pA"
   ]
  },
  {
   "cell_type": "code",
   "execution_count": 12,
   "metadata": {},
   "outputs": [
    {
     "data": {
      "text/plain": [
       "Vector[4]"
      ]
     },
     "execution_count": 12,
     "metadata": {},
     "output_type": "execute_result"
    }
   ],
   "source": [
    "# We set the temperature to 35°C to simulate a mammalian neuron,\n",
    "h.celsius = 35\n",
    "\n",
    "# Record the time and voltage,\n",
    "dt_rec = 0.1\n",
    "t = h.Vector()\n",
    "v = h.Vector()\n",
    "t.record(h._ref_t, 0.1)\n",
    "v.record(soma(0.5)._ref_v, dt_rec)"
   ]
  },
  {
   "cell_type": "markdown",
   "metadata": {
    "slideshow": {
     "slide_type": "subslide"
    }
   },
   "source": [
    "Here, we add a `NetCon` object that will monitor the membrane potential of the cell and detect events with `v` crossing -20 mV. Since this `NetCon` does not need to deliver events to anything else, we connect it to `None`. Then, we can record the event times to a vector, which lets us to record spike times, detected by a voltage threshold."
   ]
  },
  {
   "cell_type": "code",
   "execution_count": 13,
   "metadata": {},
   "outputs": [
    {
     "data": {
      "text/plain": [
       "0.0"
      ]
     },
     "execution_count": 13,
     "metadata": {},
     "output_type": "execute_result"
    }
   ],
   "source": [
    "nc = h.NetCon(soma(0.5)._ref_v, None, -20, 0, 1)\n",
    "tspike = h.Vector()\n",
    "nc.record(tspike)"
   ]
  },
  {
   "cell_type": "code",
   "execution_count": 14,
   "metadata": {
    "slideshow": {
     "slide_type": "subslide"
    }
   },
   "outputs": [
    {
     "data": {
      "text/plain": [
       "[Text(0.5, 0, 'time (ms)'), Text(0, 0.5, 'v (mv)')]"
      ]
     },
     "execution_count": 14,
     "metadata": {},
     "output_type": "execute_result"
    },
    {
     "data": {
      "image/png": "[encoded data removed]",
      "text/plain": [
       "<Figure size 432x288 with 1 Axes>"
      ]
     },
     "metadata": {
      "needs_background": "light"
     },
     "output_type": "display_data"
    }
   ],
   "source": [
    "# Run the simulation and plot the result\n",
    "\n",
    "h.run()\n",
    "\n",
    "_, ax = plt.subplots()\n",
    "\n",
    "ax.plot(t, v)\n",
    "ax.set(xlabel=\"time (ms)\", ylabel = \"v (mv)\")"
   ]
  },
  {
   "cell_type": "markdown",
   "metadata": {
    "slideshow": {
     "slide_type": "subslide"
    }
   },
   "source": [
    "Here We print the spike times. Note that we used `.as_numpy` to transform a NEURON `Vector` to a numpy array"
   ]
  },
  {
   "cell_type": "code",
   "execution_count": 15,
   "metadata": {},
   "outputs": [
    {
     "name": "stdout",
     "output_type": "stream",
     "text": [
      "[ 86.325 109.725 132.95  156.175 179.4   202.625 225.85  249.05  272.275\n",
      " 295.5   318.725 341.95  410.75 ]\n"
     ]
    }
   ],
   "source": [
    "print(tspike.as_numpy())"
   ]
  },
  {
   "cell_type": "markdown",
   "metadata": {
    "slideshow": {
     "slide_type": "slide"
    }
   },
   "source": [
    "## Pyramidal cell example\n",
    "\n",
    "Now let's simulate the fully active pyramidal cell model. **Please make sure that you restart the kernel at this point.**"
   ]
  },
  {
   "cell_type": "code",
   "execution_count": 1,
   "metadata": {},
   "outputs": [],
   "source": [
    "import neuron\n",
    "from neuron import h, gui\n",
    "import libcell\n",
    "\n",
    "import numpy as np\n",
    "import matplotlib.pyplot as plt"
   ]
  },
  {
   "cell_type": "markdown",
   "metadata": {
    "slideshow": {
     "slide_type": "subslide"
    }
   },
   "source": [
    "First we defined a passive cell,"
   ]
  },
  {
   "cell_type": "code",
   "execution_count": 2,
   "metadata": {},
   "outputs": [
    {
     "name": "stdout",
     "output_type": "stream",
     "text": [
      "\t0 \n",
      "\t1 \n",
      "\t1 \n",
      "\t1 \n",
      "\t1 \n"
     ]
    }
   ],
   "source": [
    "cell = libcell.L23()"
   ]
  },
  {
   "cell_type": "code",
   "execution_count": 3,
   "metadata": {},
   "outputs": [
    {
     "data": {
      "text/plain": [
       "True"
      ]
     },
     "execution_count": 3,
     "metadata": {},
     "output_type": "execute_result"
    }
   ],
   "source": [
    "neuron.load_mechanisms(\"mod.files\")"
   ]
  },
  {
   "cell_type": "markdown",
   "metadata": {
    "slideshow": {
     "slide_type": "subslide"
    }
   },
   "source": [
    "And then, we call a function in `libcell.py` to embed active mechanisms everywhere,`"
   ]
  },
  {
   "cell_type": "code",
   "execution_count": 4,
   "metadata": {},
   "outputs": [
    {
     "name": "stdout",
     "output_type": "stream",
     "text": [
      "soma { nseg=7  L=9.26604  Ra=100\n",
      "\t/*location 0 attached to cell 0*/\n",
      "\t/* First segment only */\n",
      "\tinsert capacitance { cm=1}\n",
      "\tinsert morphology { diam=29.7838}\n",
      "\tinsert pas { g_pas=0.000142857 e_pas=-75}\n",
      "\tinsert na { gbar_na=1000}\n",
      "\tinsert na_ion { ena=60}\n",
      "\tinsert kv { gbar_kv=100}\n",
      "\tinsert km { gbar_km=2.2}\n",
      "\tinsert kca { gbar_kca=3}\n",
      "\tinsert k_ion { ek=-90}\n",
      "\tinsert ca { gbar_ca=0.5}\n",
      "\tinsert it { gbar_it=0.0003}\n",
      "\tinsert ca_ion { cai=5e-05 cao=2}\n",
      "}\n"
     ]
    },
    {
     "data": {
      "text/plain": [
       "1.0"
      ]
     },
     "execution_count": 4,
     "metadata": {},
     "output_type": "execute_result"
    }
   ],
   "source": [
    "libcell.init_active(cell, axon=True, soma=True, dend=True, dendNa=True, dendCa=True)\n",
    "h.psection()"
   ]
  },
  {
   "cell_type": "markdown",
   "metadata": {
    "slideshow": {
     "slide_type": "subslide"
    }
   },
   "source": [
    "To test the excitability of the cell, we add a current clamp electrode at soma,"
   ]
  },
  {
   "cell_type": "code",
   "execution_count": 5,
   "metadata": {},
   "outputs": [],
   "source": [
    "ic = h.IClamp(cell.soma(0.5))"
   ]
  },
  {
   "cell_type": "markdown",
   "metadata": {
    "slideshow": {
     "slide_type": "subslide"
    }
   },
   "source": [
    "Let's define a function to do a virtual current clamp experiment,"
   ]
  },
  {
   "cell_type": "code",
   "execution_count": 6,
   "metadata": {},
   "outputs": [],
   "source": [
    "def do_current_clamp(current_injected):\n",
    "    \n",
    "    # should not forget setting the temperature...\n",
    "    h.celsius = 35\n",
    "    \n",
    "    # Simulation length = 300 ms\n",
    "    h.tstop = 300\n",
    "\n",
    "    # Current injection for 200 ms\n",
    "    ic.delay = 50\n",
    "    ic.dur = 200\n",
    "    ic.amp = current_injected\n",
    "\n",
    "\n",
    "    dt_rec = 0.1\n",
    "    t = h.Vector()\n",
    "    v = h.Vector()\n",
    "    v.record(cell.soma(1)._ref_v, dt_rec)\n",
    "    t.record(h._ref_t, dt_rec)\n",
    "\n",
    "    # We set the initial voltage to -75 mV and run the simulation\n",
    "    h.v_init = -75\n",
    "    h.init()\n",
    "    h.run()\n",
    "    \n",
    "    # Here we plot the result\n",
    "    _, ax = plt.subplots()\n",
    "\n",
    "    ax.plot(t, v)\n",
    "    ax.set(xlabel=\"time (ms)\", ylabel = \"v (mv)\")"
   ]
  },
  {
   "cell_type": "code",
   "execution_count": 15,
   "metadata": {
    "slideshow": {
     "slide_type": "subslide"
    }
   },
   "outputs": [
    {
     "data": {
      "image/png": "[encoded data removed]",
      "text/plain": [
       "<Figure size 432x288 with 1 Axes>"
      ]
     },
     "metadata": {
      "needs_background": "light"
     },
     "output_type": "display_data"
    }
   ],
   "source": [
    "do_current_clamp(0.1) # 100 pA injection; the cell is still in a subthreshold regime"
   ]
  },
  {
   "cell_type": "code",
   "execution_count": 17,
   "metadata": {
    "slideshow": {
     "slide_type": "subslide"
    }
   },
   "outputs": [
    {
     "data": {
      "image/png": "[encoded data removed]",
      "text/plain": [
       "<Figure size 432x288 with 1 Axes>"
      ]
     },
     "metadata": {
      "needs_background": "light"
     },
     "output_type": "display_data"
    }
   ],
   "source": [
    "do_current_clamp(0.35) # 350 pA injection will give you spikes"
   ]
  },
  {
   "cell_type": "markdown",
   "metadata": {
    "slideshow": {
     "slide_type": "slide"
    }
   },
   "source": [
    "### Adding synapses\n",
    "\n",
    "Here we will add some synapses to the cell. These functions are copied from `libcell.py` and modified to connect each synapse to external artificial spike generators."
   ]
  },
  {
   "cell_type": "code",
   "execution_count": 7,
   "metadata": {},
   "outputs": [],
   "source": [
    "def add_AMPAsyns(model, locs, stims, gmax=1, tau1=0.5, tau2=1):\n",
    "    \"\"\"inserts AMPA synapses into model at locs and connect them to stims.\n",
    "    locs is a list of lists containing two numbers, such as [[0, 0.5]]. The first\n",
    "    number denotes which dendritic compartement the synapse will be located\n",
    "    and the second is a relative coordinate. For example, [[0, 0.5]] will embed\n",
    "    one synapse at model.dends[0](0.5). gmax is a maximal conductance in uS.\n",
    "    tau1 and tau2 are a rising and decay time constant in ms.\n",
    "    \"\"\"\n",
    "    # we store synapses and NetCons in a list\n",
    "    model.AMPAlist = []\n",
    "    model.ncAMPAlist = []\n",
    "    \n",
    "    # set in nS and convert to muS\n",
    "    gmax = gmax/1000.\n",
    "    \n",
    "    for loc, stim in zip(locs, stims):\n",
    "        # an AMPA synapse is `Exp2Syn` with a reversal potential = 0 mV\n",
    "        AMPA = h.Exp2Syn(float(loc[1]), sec=model.dends[int(loc[0])])\n",
    "        AMPA.tau1 = tau1\n",
    "        AMPA.tau2 = tau2\n",
    "        \n",
    "        # connect stim to the synapse\n",
    "        NC = h.NetCon(stim, AMPA, 0, 0, gmax)\n",
    "        model.AMPAlist.append(AMPA)\n",
    "        model.ncAMPAlist.append(NC)"
   ]
  },
  {
   "cell_type": "code",
   "execution_count": 8,
   "metadata": {
    "slideshow": {
     "slide_type": "subslide"
    }
   },
   "outputs": [],
   "source": [
    "def add_NMDAsyns(model, locs, stims, gmax=1, tau1=2, tau2=20):\n",
    "    \"\"\"inserts NMDA synapses into model at locs and connect them to stims.\"\"\"\n",
    "    model.NMDAlist = []\n",
    "    model.ncNMDAlist = []\n",
    "    gmax = gmax/1000.   # Set in nS and convert to muS\n",
    "    for loc, stim in zip(locs, stims):\n",
    "        # an NMDA synapse\n",
    "        NMDA = h.Exp2SynNMDA(float(loc[1]), sec=model.dends[int(loc[0])])\n",
    "        NMDA.tau1 = tau1\n",
    "        NMDA.tau2 = tau2\n",
    "        NC = h.NetCon(stim, NMDA, 0, 0, gmax)\n",
    "        x = float(loc[1])\n",
    "        model.NMDAlist.append(NMDA)\n",
    "        model.ncNMDAlist.append(NC)"
   ]
  },
  {
   "cell_type": "code",
   "execution_count": 9,
   "metadata": {
    "slideshow": {
     "slide_type": "subslide"
    }
   },
   "outputs": [],
   "source": [
    "def add_GABAsyns(model, locs, stims, gmax=0.5, tau1=0.1, tau2=4, rev=-80):\n",
    "    \"\"\"insetrs GABA synapses into model at locs and connect them to stims.\"\"\"\n",
    "    model.GABAlist = []\n",
    "    model.ncGABAlist = []\n",
    "    gmax = gmax/1000.   # Set in nS and convert to muS\n",
    "    for loc, stim in zip(locs, stims):\n",
    "        # a GABA synapse is `Exp2Syn` with a reversal potential = rev mV \n",
    "        # (default value = -80 mV)\n",
    "        GABA = h.Exp2Syn(float(loc[1]), sec=model.dends[int(loc[0])])\n",
    "        GABA.tau1 = tau1\n",
    "        GABA.tau2 = tau2\n",
    "        GABA.e = rev\n",
    "        \n",
    "        NC = h.NetCon(stim, GABA, 0, 0, gmax)\n",
    "        model.GABAlist.append(GABA)\n",
    "        model.ncGABAlist.append(NC)"
   ]
  },
  {
   "cell_type": "markdown",
   "metadata": {
    "slideshow": {
     "slide_type": "subslide"
    }
   },
   "source": [
    "Lets add an AMPA+NMDA synapse at cell.dend\\[0\\](0.5) and connect it to an artificial spike generator."
   ]
  },
  {
   "cell_type": "code",
   "execution_count": 26,
   "metadata": {},
   "outputs": [],
   "source": [
    "# location = cell.dends[0](0.5)\n",
    "locs = [[0, 0.5]]\n",
    "\n",
    "# spiking frequency = 10 Hz, ISI = 1000/10 = 10 ms\n",
    "fexc = 10\n",
    "\n",
    "exc_stims = []\n",
    "for loc in locs:\n",
    "    exc_stims.append(h.NetStimFD()) # An articifial spike generator\n",
    "    exc_stims[-1].noise = 0 # no noise\n",
    "    exc_stims[-1].start = 150 # start from 150 ms\n",
    "    exc_stims[-1].duration = h.tstop\n",
    "    exc_stims[-1].interval = 1000./fexc # set ISI\n",
    "\n",
    "# Add an AMPA synapse connected to exc_stims\n",
    "add_AMPAsyns(cell, locs, exc_stims)\n",
    "# Add an NMDA synapse at the same location, also connected to exc_stims\n",
    "add_NMDAsyns(cell, locs, exc_stims)\n"
   ]
  },
  {
   "cell_type": "code",
   "execution_count": 27,
   "metadata": {
    "slideshow": {
     "slide_type": "subslide"
    }
   },
   "outputs": [
    {
     "data": {
      "image/png": "[encoded data removed]",
      "text/plain": [
       "<Figure size 432x288 with 1 Axes>"
      ]
     },
     "metadata": {
      "needs_background": "light"
     },
     "output_type": "display_data"
    }
   ],
   "source": [
    "do_current_clamp(0.0) # Run a simulation with no current injection"
   ]
  },
  {
   "cell_type": "markdown",
   "metadata": {
    "slideshow": {
     "slide_type": "subslide"
    }
   },
   "source": [
    "Now let's try many more synapses, inserted at random locations! We first make a function to create random locations in the cell's dendrites."
   ]
  },
  {
   "cell_type": "code",
   "execution_count": 32,
   "metadata": {},
   "outputs": [
    {
     "data": {
      "text/plain": [
       "104"
      ]
     },
     "execution_count": 32,
     "metadata": {},
     "output_type": "execute_result"
    }
   ],
   "source": [
    "len(cell.dends)"
   ]
  },
  {
   "cell_type": "code",
   "execution_count": 10,
   "metadata": {},
   "outputs": [],
   "source": [
    "def genRandomLocs(model, nsyn):\n",
    "    \"\"\"generates nsyn random locations distributed in model.dends.\"\"\"\n",
    "    locs = []\n",
    "    for s in np.arange(0,nsyn):\n",
    "        dend = np.random.randint(low=0, high=len(model.dends))\n",
    "        pos = np.random.uniform()\n",
    "        locs.append([dend, pos])\n",
    "    return locs"
   ]
  },
  {
   "cell_type": "code",
   "execution_count": 11,
   "metadata": {},
   "outputs": [
    {
     "data": {
      "text/plain": [
       "[[63, 0.03018639997266881],\n",
       " [3, 0.09165044785638643],\n",
       " [55, 0.04152557634296117],\n",
       " [66, 0.6088918625342595],\n",
       " [74, 0.4976199426940604],\n",
       " [35, 0.28807053169271757],\n",
       " [4, 0.32084783333799716],\n",
       " [1, 0.35850014416637477],\n",
       " [30, 0.21622918751352815],\n",
       " [47, 0.9677029878109051]]"
      ]
     },
     "execution_count": 11,
     "metadata": {},
     "output_type": "execute_result"
    }
   ],
   "source": [
    "genRandomLocs(cell, 10)"
   ]
  },
  {
   "cell_type": "markdown",
   "metadata": {
    "slideshow": {
     "slide_type": "subslide"
    }
   },
   "source": [
    "And then, we create 100 excitatory and 20 inhibitory synapse locations."
   ]
  },
  {
   "cell_type": "code",
   "execution_count": 12,
   "metadata": {},
   "outputs": [
    {
     "data": {
      "text/plain": [
       "[[53, 0.7600026926816007],\n",
       " [95, 0.2743492211354557],\n",
       " [0, 0.43760947328974265],\n",
       " [94, 0.8039439424086952],\n",
       " [44, 0.4829008151643651],\n",
       " [83, 0.5057687720228087],\n",
       " [38, 0.7080907113966173],\n",
       " [51, 0.743624977547078],\n",
       " [32, 0.5802217051677053],\n",
       " [21, 0.7412349676961771],\n",
       " [66, 0.6165100524694088],\n",
       " [59, 0.5807023415010472],\n",
       " [1, 0.8468586390619992],\n",
       " [58, 0.6112576722070437],\n",
       " [42, 0.044406201081019114],\n",
       " [24, 0.7385035693569602],\n",
       " [29, 0.7717387940136021],\n",
       " [60, 0.6717978363326106],\n",
       " [38, 0.1530505002654987],\n",
       " [29, 0.07845349414856406]]"
      ]
     },
     "execution_count": 12,
     "metadata": {},
     "output_type": "execute_result"
    }
   ],
   "source": [
    "n_exc = 100\n",
    "n_inh = 20\n",
    "\n",
    "exc_locs = genRandomLocs(cell, n_exc)\n",
    "inh_locs = genRandomLocs(cell, n_inh)\n",
    "inh_locs"
   ]
  },
  {
   "cell_type": "markdown",
   "metadata": {
    "slideshow": {
     "slide_type": "subslide"
    }
   },
   "source": [
    "We connect the excitatory synapses to spike generators, Poisson firing at 10 Hz. The inhibitory ones will be connected to another set of spike generators firing at 40 Hz."
   ]
  },
  {
   "cell_type": "code",
   "execution_count": 15,
   "metadata": {},
   "outputs": [],
   "source": [
    "fexc = 30 # 30 Hz\n",
    "exc_stims = []\n",
    "for loc in exc_locs:\n",
    "    exc_stims.append(h.NetStimFD())\n",
    "    exc_stims[-1].noise = 1 # maximally noisy stimulus\n",
    "    exc_stims[-1].start = 0 # start from 0\n",
    "    exc_stims[-1].duration = h.tstop\n",
    "    exc_stims[-1].interval = 1000./fexc\n",
    "\n",
    "add_AMPAsyns(cell, exc_locs, exc_stims)\n",
    "add_NMDAsyns(cell, exc_locs, exc_stims)\n",
    "\n",
    "\n",
    "# inhibitory stims\n",
    "finh = 40 # 40 Hz\n",
    "inh_stims = []\n",
    "for loc in inh_locs:\n",
    "    inh_stims.append(h.NetStimFD())\n",
    "    inh_stims[-1].noise = 1 # maximally noisy stimulus\n",
    "    inh_stims[-1].start = 0 # start from 0\n",
    "    inh_stims[-1].duration = h.tstop\n",
    "    inh_stims[-1].interval = 1000./fexc\n",
    "\n",
    "add_GABAsyns(cell, inh_locs, inh_stims)"
   ]
  },
  {
   "cell_type": "code",
   "execution_count": 16,
   "metadata": {
    "slideshow": {
     "slide_type": "subslide"
    }
   },
   "outputs": [
    {
     "data": {
      "image/png": "[encoded data removed]",
      "text/plain": [
       "<Figure size 432x288 with 1 Axes>"
      ]
     },
     "metadata": {
      "needs_background": "light"
     },
     "output_type": "display_data"
    }
   ],
   "source": [
    "do_current_clamp(-0.) # Run a simulation with no current injection"
   ]
  },
  {
   "cell_type": "code",
   "execution_count": null,
   "metadata": {},
   "outputs": [],
   "source": []
  }
 ],
 "metadata": {
  "@webio": {
   "lastCommId": null,
   "lastKernelId": null
  },
  "kernel_info": {
   "name": "python3"
  },
  "kernelspec": {
   "display_name": "Python 3",
   "language": "python",
   "name": "python3"
  },
  "language_info": {
   "codemirror_mode": {
    "name": "ipython",
    "version": 3
   },
   "file_extension": ".py",
   "mimetype": "text/x-python",
   "name": "python",
   "nbconvert_exporter": "python",
   "pygments_lexer": "ipython3",
   "version": "3.8.12"
  },
  "nteract": {
   "version": "0.12.3"
  }
 },
 "nbformat": 4,
 "nbformat_minor": 4
}
