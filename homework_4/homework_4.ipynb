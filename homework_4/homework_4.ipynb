{
 "cells": [
  {
   "cell_type": "markdown",
   "id": "a38b1ea9-0db0-4a2e-ab8a-ae761409590d",
   "metadata": {},
   "source": [
    "# Homework 4 (Due: April 28, 2022)"
   ]
  },
  {
   "cell_type": "markdown",
   "id": "6892f1dd-4064-4487-b400-630c2769329a",
   "metadata": {},
   "source": [
    "## 1. Emergent oscillation in a network of mutually inhibiting neurons\n",
    "\n",
    "Construct a network model with the following specifications:\n",
    "\n",
    "1. The network has 100 cells,\n",
    "2. Each cell is a single compartment model with a diameter and length of 15 um,\n",
    "3. Each cell has the [Wang-Buzsáki mechanism](https://www.jneurosci.org/content/16/20/6402) inserted (`wb`),\n",
    "4. Each cell has one excitatory (tau1=0.25 ms and tau2=2 ms, e=0 mV) and inhibitory (tau1 = 1 ms, tau2 = 5 ms, e = -75 mV), based on the Exp2Syn mechanism.\n",
    "5. Each excitatory synapse is driven by an external stimulus generator, `NetStimFD`, that fires noisily (noise=1) at 50 Hz throughout the simulation. The synaptic conductance (weight of the connection) is 5 nS.\n",
    "6. Each inhibitory synapse is connected to other 50 random presynaptic cells in the network, with **a conduction delay (delay in the NetCon for the connection) of 4 ms** and synaptic conductance of 5 nS.\n",
    "\n",
    "Run the simulation of this model for at least 1000 ms while recording spike times from every cell, and answer the following questions,\n",
    "\n",
    "1. Plot a raster plot of the data: plot a scatter plot of the data where an x-axis is time and y-axis is neuron's id (see an example below). \n",
    "\n",
    "2. Plot the total spike count in time: make a histogram of all the spike times with 1 ms time bins and plot the result (see an example below. For making a histogram, see https://docs.scipy.org/doc/numpy/reference/generated/numpy.histogram.html). \n",
    "\n",
    "3. Find an oscillation frequency from the spike count time series. How does the oscillation frequency compare with the mean firing frequency? Hint: You can use the `welch` function in scipy.signal (https://docs.scipy.org/doc/scipy/reference/generated/scipy.signal.welch.html) to compute a power spectral density. Make sure that your sampling rate (fs) is 1e3 since the time bin size is 1 ms. Note that `nperseg` controls smoothing (the smaller, the smoother) and `nfft` increases the number of the frequency points. Try to different `nperseg` and `nfft` to find good parameters.\n",
    "\n",
    "4. Compute the mean spiking frequency per cell and compare this with the oscillation frequency found in 3. Are they the same? If not, why?\n"
   ]
  },
  {
   "cell_type": "markdown",
   "id": "2cb6dce4-4512-4545-a7a0-c499e13f9309",
   "metadata": {},
   "source": [
    "## 2. Controlling emergent oscillation by inputs\n",
    "\n",
    "Here we ask you to make a model of how the oscillation in a cortical network is modulated by external inputs to excitatory and inhibitory neurons.\n",
    "\n",
    "Construct a network model with the following specifications:\n",
    "\n",
    "1. The network has 800 excitatory and 200 inhibitory cells,\n",
    "2. Each cell is a single compartment model with a diameter and length of 15 um,\n",
    "3. Each cell has the [Wang-Buzsáki mechanism](https://www.jneurosci.org/content/16/20/6402) inserted (`wb`),\n",
    "4. Each cell has one excitatory (tau1=0.25 ms and tau2=2 ms, e=0 mV) and inhibitory (tau1 = 1 ms, tau2 = 5 ms, e = -75 mV), based on the Exp2Syn mechanism.\n",
    "5. Each cell is driven by an external stimulus generator, `NetStimFD`, via the excitatory synapse, that fires noisily (noise=1) at 10 Hz throughout the simulation. The synaptic conductance (weight of the connection) is **10 nS**.\n",
    "6. Each cell receives excitatory inputs from 10% of the excitatory cells and inhibitory inputs from 10% of the inhibitory cells. The synaptic conductances (weights) are\n",
    "\n",
    "| Connection type| Conductance|\n",
    "|:--------------:|:----------:|\n",
    "| Excitatory -> Excitatory| 5 nS|\n",
    "| Inhibitory -> Excitatory| 10 nS|\n",
    "| Excitatory -> Inhibitory| 5 nS|\n",
    "| Inhibitory -> Inhibitory| 5 nS|\n",
    "\n",
    "Run the simulation of this model for at least 2000 ms while recording spike times from every cell, and answer the following questions,\n",
    "\n",
    "1. Make a raster plot and spike histogram as Problem 1. Also, Find the most dominant oscillation frequency and power by plotting the power spectral density as well as the averarge spiking frequency per cell.\n",
    "\n",
    "2. Change the spiking frequency of the external stimuli to **inhibitory cells**  to 50 Hz and find the average spiking frequency and the oscillation frequency/power.\n",
    "\n",
    "3. Change the spiking frequency of the external stimuli to **excitatory cells** also to 50 Hz and find the average spiking frequency and the oscillation frequency/power.\n",
    "\n",
    "4. (Optional) Try various intermediate frequencies (<50 Hz) and determine how the oscillation frequency/power and spiking rate varies with spiking frequency of two external stimuli (to excitatory and inhibitory neurons)."
   ]
  }
 ],
 "metadata": {
  "kernelspec": {
   "display_name": "Python 3",
   "language": "python",
   "name": "python3"
  },
  "language_info": {
   "codemirror_mode": {
    "name": "ipython",
    "version": 3
   },
   "file_extension": ".py",
   "mimetype": "text/x-python",
   "name": "python",
   "nbconvert_exporter": "python",
   "pygments_lexer": "ipython3",
   "version": "3.8.10"
  }
 },
 "nbformat": 4,
 "nbformat_minor": 5
}
