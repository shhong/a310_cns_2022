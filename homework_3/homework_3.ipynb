{
 "cells": [
  {
   "cell_type": "markdown",
   "metadata": {},
   "source": [
    "# Homework 3 (Due: April 8, 2022)"
   ]
  },
  {
   "cell_type": "markdown",
   "metadata": {},
   "source": [
    "## 1. fI curve, A-current, and near-threshold membrane potential dynamics\n",
    "\n",
    "**Note: Don't forget compiling the .mod files in `mod.files`!**\n",
    "\n",
    "Here we ask you to reproduce Fig. 7.2B and 7.6Bin Rinzel and Ermentrout by using simulations of a single compartment model neuron with active mechanisms called the Connor-Stevens model (Connor JA and Stevens CF (1971) J Physiol. 213(1):31-53) (`conste`). In addition to the Hodgkin-Huxley-like Na+ and K+ channel, the Connor-Stevens model has another type of the K+ current called the A-type current. The conductance density of the A-current is initially `gabar_conste`=0.0477 S/cm2.\n",
    "\n",
    "Construct a single compartment neuron model with the following specifictations:\n",
    "\n",
    "1. A single section, named `soma`, with a diameter and length of 15 um,\n",
    "2. The Connor-Stevens mechanism inserted (`conste`),\n",
    "3. A current clamp (`h.IClamp`) electrode embedded.\n",
    "\n",
    "With simulation of this model, answer the following questions:\n",
    "\n",
    "1. While injecting the constant current with different amplitudes, count how many spikes the neuron fires. With the data, plot the relationship between the injected current vs firing rate relationship, the f-I curve as Fig. 7.2B and 7.6B. Please try to collect data densely around the rheobase (a current threshold for initiating repeatitive spiking) so that you can probe the shape of the f-I curve better around the rheobase. Which case do you think this correspond to, 7.2B or 7.6B? \n",
    "2. Turn off the A-current by setting the conductance `gabar_conste` to zero, and repeat the steps in 1. Again, which one is qualitatively similar to this case, 7.2B or 7.6B? \n",
    "3. In both cases, record the membrane voltage `v` and K+ channel gating variable `n_conste`, and draw the 2d phase plot, `v` versus `n_conste`. When the injected current crosses the rheobase, how does the phase plot change? And how does that change depend on the presence/absence of the A-current? Again, please make sure that the injected current is sufficiently close to the rheobase so that you can observe the near-threshold behavior."
   ]
  },
  {
   "cell_type": "markdown",
   "metadata": {},
   "source": [
    "## 2. Mainen-Sejnowski model\n",
    "\n",
    "**Note: Don't forget compiling the .mod files in `mod.files`!**\n",
    "\n",
    "Here we ask you to reproduce a neuron model by [Mainen and Sejnowski (Nature, 1996)](https://www.nature.com/articles/382363a0). This model is composed of a dendritic and axo-somatic section with 6 active mechanisms. The mod files are in `mod.files` directory. Go through the following steps to build the model and and run simulations,\n",
    "\n",
    "1. Create two sections, soma and dendrite, and [connect them together](https://neuronsimulator.github.io/nrn/python/modelspec/programmatic/topology.html?highlight=connect#Section.connect).\n",
    "2. Set the geometry of soma so that the surface area is 10 um^2 while setting the dendritic area is 2000 um^2.\n",
    "3. Insert the following mechanisms:\n",
    "\n",
    "| Section | name | type |\n",
    "|---------|------|------|\n",
    "| soma | `na` | Na+ channel|\n",
    "| soma | `kv` | Voltage-dependent K+ channel|\n",
    "|dendrite|`pas` | Leak channel|\n",
    "|dendrite| `na` | Na+ channel|\n",
    "|dendrite|`km`| [M-type K+ channel](https://en.wikipedia.org/wiki/M_current)|\n",
    "|dendrite|`ca`| High-threshold Ca2+ channel|\n",
    "|dendrite|`kca`|Ca2+-activated K+ channel|\n",
    "|dendrite|`cad`|Simple exponential Ca2+ buffer model|\n",
    "\n",
    "4. Set the ion reversal potential for each compartment\n",
    "\n",
    "| Section | type | name | value|\n",
    "|---------|------|------|------|\n",
    "| soma | Na+ | `ena` | 60 mV |\n",
    "| soma | K+ | `ek` | -90 mV |\n",
    "| dendrite | Na+ | `ena` | 60 mV |\n",
    "| dendrite | K+ | `ek` | -90 mV |\n",
    "| dendrite | Ca2+ | `eca` | 140 mV |\n",
    "\n",
    "5. The model Ca2+ channel requires to fix `eca`. To do so, run `h.ion_style(\"ca_ion\", 0, 1, 0, 0, 0, sec=name_of_your_dendritic_section)`\n",
    "6. Set the conductance parameters as follows:\n",
    "\n",
    "|Section | name | value|\n",
    "|--------|------|------|\n",
    "|soma | `gbar_na`| 30000 S/cm^2|\n",
    "|soma | `gbar_kv`| 1500 S/cm^2|\n",
    "|dendrite | `gpas`| 1/30000 S/cm^2|\n",
    "|dendrite | `gbar_na`| 15 S/cm^2|\n",
    "|dendrite | `gbar_ca`| 0.3 S/cm^2|\n",
    "|dendrite | `gbar_kca`| 3 S/cm^2|\n",
    "|dendrite | `gbar_km`| 0.1 S/cm^2|\n",
    "\n",
    "7. Set the capacitance parameters:\n",
    "\n",
    "|Section | value|\n",
    "|--------|-----|\n",
    "|soma | 0.75 uF/cm^2|\n",
    "|dendrite | 0.75 uF/cm^2|\n",
    "\n",
    "and also the axial resitance:\n",
    "\n",
    "|Section | value|\n",
    "|--------|-----|\n",
    "|soma | 8 Ohm cm|\n",
    "|dendrite | 8 Ohm cm|\n",
    "\n",
    "8. Set the simulation period (`tstop`) to 1000 ms, the temperature (`h.celsius`) to 37 degC, and the initial voltage (`h.v_init`) to -70 mV.\n",
    "9. Add a current clamp (`h.IClamp`) to inject 100 pA during the simulation.\n",
    "\n",
    "If the model is correctly constructed, the somatic voltage will be like the following plot:\n",
    "\n",
    "![](./demo_MSmodel.png)\n",
    "\n",
    "Answer the following questions by using the model:\n",
    "\n",
    "1. Vary the size of the dendritic section from 1500 um^2 to 2000 um^2 and describe how the model neuron's firing pattern changes. Find and report the \"transition points\" as accurately as possible.\n",
    "2. Use phase space analysis as in Problem 1 to understand the model dynamics for firing patterns: For example, plot two dimensional plots of the somatic voltage versus dendritic voltage with different dendtrite sizes. Can you come up with a good explanation of the model neuron dynamics and its change by those plots? Try other variables for your phase space analysis."
   ]
  },
  {
   "cell_type": "markdown",
   "metadata": {},
   "source": [
    "# 3. Signal propagation in a deep feedforward network\n",
    "\n",
    "1. Debug (!) and complete the network simulation. Hint: check if the correct connectivity is constructed.\n",
    "2. Explain how the excitatory and inhibitory synaptic conductance shape the signal propagation.\n",
    "3. If the spike signal reaches well deeply to the final layer, is it similar to the signal at the first layer (sustained asynchronous firing)? If not, explain your result."
   ]
  }
 ],
 "metadata": {
  "kernel_info": {
   "name": "python3"
  },
  "kernelspec": {
   "display_name": "Python 3",
   "language": "python",
   "name": "python3"
  },
  "language_info": {
   "codemirror_mode": {
    "name": "ipython",
    "version": 3
   },
   "file_extension": ".py",
   "mimetype": "text/x-python",
   "name": "python",
   "nbconvert_exporter": "python",
   "pygments_lexer": "ipython3",
   "version": "3.8.12"
  },
  "nteract": {
   "version": "0.7.1"
  }
 },
 "nbformat": 4,
 "nbformat_minor": 4
}
