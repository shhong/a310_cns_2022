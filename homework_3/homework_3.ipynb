{
 "cells": [
  {
   "cell_type": "markdown",
   "metadata": {},
   "source": [
    "# Homework 3 (Due: July 28, 2021)"
   ]
  },
  {
   "cell_type": "markdown",
   "metadata": {},
   "source": [
    "## 1. fI curve, A-current, and near-threshold membrane potential dynamics\n",
    "\n",
    "Here we ask you to reproduce Fig. 7.2B and 7.6Bin Rinzel and Ermentrout by using simulations of a single compartment model neuron with active mechanisms called the Connor-Stevens model (Connor JA and Stevens CF (1971) J Physiol. 213(1):31-53) (`conste`). In addition to the Hodgkin-Huxley-like Na+ and K+ channel, the Connor-Stevens model has another type of the K+ current called the A-type current. The conductance density of the A-current is initially `gabar_conste`=0.0477 S/cm2.\n",
    "\n",
    "Construct a single compartment neuron model with the following specifictations:\n",
    "\n",
    "1. A single section, named `soma`, with a diameter and length of 15 um,\n",
    "2. The Connor-Stevens mechanism inserted (`conste`),\n",
    "3. A current clamp (`h.IClamp`) electrode embedded.\n",
    "\n",
    "With simulation of this model, answer the following questions:\n",
    "\n",
    "1. While injecting the constant current with different amplitudes, count how many spikes the neuron fires. With the data, plot the relationship between the injected current vs firing rate relationship, the f-I curve as Fig. 7.2B and 7.6B. Please try to collect data densely around the rheobase (a current threshold for initiating repeatitive spiking) so that you can probe the shape of the f-I curve better around the rheobase. Which case do you think this correspond to, 7.2B or 7.6B? \n",
    "2. Turn off the A-current by setting the conductance `gabar_conste` to zero, and repeat the steps in 1. Again, which one is qualitatively similar to this case, 7.2B or 7.6B? \n",
    "3. In both cases, record the membrane voltage `v` and K+ channel gating variable `n_conste`, and draw the 2d phase plot, `v` versus `n_conste`. When the injected current crosses the rheobase, how does the phase plot change? And how does that change depend on the presence/absence of the A-current? Again, please make sure that the injected current is sufficiently close to the rheobase so that you can observe the near-threshold behavior.\n",
    "\n",
    "**Note: Don't forget compiling the .mod files in `mod.files`!**"
   ]
  },
  {
   "cell_type": "code",
   "execution_count": 4,
   "metadata": {},
   "outputs": [
    {
     "name": "stdout",
     "output_type": "stream",
     "text": [
      "/usr/bin/xcrun\n",
      "/Users/shhong/Dropbox/CNS_course/2022/a310_cns_2022/homework_3\n",
      "-n Mod files:\n",
      "-n  \"mod.files/CaT.mod\"\n",
      "-n  \"mod.files/ConnorStevens.mod\"\n",
      "-n  \"mod.files/HH2.mod\"\n",
      "-n  \"mod.files/ca.mod\"\n",
      "-n  \"mod.files/caL3d.mod\"\n",
      "-n  \"mod.files/cad.mod\"\n",
      "-n  \"mod.files/exp2synNMDA.mod\"\n",
      "-n  \"mod.files/h.mod\"\n",
      "-n  \"mod.files/kca.mod\"\n",
      "-n  \"mod.files/kir.mod\"\n",
      "-n  \"mod.files/km.mod\"\n",
      "-n  \"mod.files/kv.mod\"\n",
      "-n  \"mod.files/mease.mod\"\n",
      "-n  \"mod.files/na.mod\"\n",
      "-n  \"mod.files/netstim2.mod\"\n",
      "-n  \"mod.files/wb.mod\"\n",
      "\n",
      "\n",
      "Creating x86_64 directory for .o files.\n",
      "\n",
      "COBJS=''\n",
      " -> \u001b[32mCompiling\u001b[0m mod_func.c\n",
      " -> \u001b[32mNMODL\u001b[0m ../mod.files/CaT.mod\n",
      " -> \u001b[32mNMODL\u001b[0m ../mod.files/ConnorStevens.mod\n",
      "gcc -O2   -I.   -I/opt/anaconda3/lib/python3.8/site-packages/neuron/.data/include  -I/usr/local/Cellar/open-mpi/4.1.2/include -fPIC -c mod_func.c -o mod_func.o\n",
      " -> \u001b[32mNMODL\u001b[0m ../mod.files/HH2.mod\n",
      "(cd \"../mod.files\"; MODLUNIT=/opt/anaconda3/lib/python3.8/site-packages/neuron/.data/share/nrn/lib/nrnunits.lib /opt/anaconda3/lib/python3.8/site-packages/neuron/.data/bin/nocmodl HH2.mod -o \"/Users/shhong/Dropbox/CNS_course/2022/a310_cns_2022/homework_3/x86_64\")\n",
      "(cd \"../mod.files\"; MODLUNIT=/opt/anaconda3/lib/python3.8/site-packages/neuron/.data/share/nrn/lib/nrnunits.lib /opt/anaconda3/lib/python3.8/site-packages/neuron/.data/bin/nocmodl ConnorStevens.mod -o \"/Users/shhong/Dropbox/CNS_course/2022/a310_cns_2022/homework_3/x86_64\")\n",
      "(cd \"../mod.files\"; MODLUNIT=/opt/anaconda3/lib/python3.8/site-packages/neuron/.data/share/nrn/lib/nrnunits.lib /opt/anaconda3/lib/python3.8/site-packages/neuron/.data/bin/nocmodl CaT.mod -o \"/Users/shhong/Dropbox/CNS_course/2022/a310_cns_2022/homework_3/x86_64\")\n"
     ]
    },
    {
     "name": "stderr",
     "output_type": "stream",
     "text": [
      "/opt/anaconda3/lib/python3.8/site-packages/neuron/.data/bin/nocmodl: Warning several input files specified on command line but only one will be processed\n",
      "/opt/anaconda3/lib/python3.8/site-packages/neuron/.data/bin/nocmodl: Warning several input files specified on command line but only one will be processed\n",
      "/opt/anaconda3/lib/python3.8/site-packages/neuron/.data/bin/nocmodl: Warning several input files specified on command line but only one will be processed\n",
      "Translating CaT.mod into CaT.c\n",
      "Translating ConnorStevens.mod into ConnorStevens.c\n",
      "Translating HH2.mod into HH2.c\n",
      "Notice: VERBATIM blocks are not thread safe\n",
      "Notice: VERBATIM blocks are not thread safe\n",
      "Notice: This mechanism cannot be used with CVODE\n",
      "Notice: This mechanism cannot be used with CVODE\n"
     ]
    },
    {
     "name": "stdout",
     "output_type": "stream",
     "text": [
      "Warning: Default 36 of PARAMETER celsius will be ignored and set by NEURON.\n",
      "Warning: Default -90 of PARAMETER ek will be ignored and set by NEURON.\n",
      "Warning: Default 50 of PARAMETER ena will be ignored and set by NEURON.\n",
      "Warning: Default -72 of PARAMETER ek will be ignored and set by NEURON.\n",
      "Warning: Default 55 of PARAMETER ena will be ignored and set by NEURON.\n"
     ]
    },
    {
     "name": "stderr",
     "output_type": "stream",
     "text": [
      "Thread Safe\n"
     ]
    },
    {
     "name": "stdout",
     "output_type": "stream",
     "text": [
      " -> \u001b[32mNMODL\u001b[0m ../mod.files/caL3d.mod\n",
      " -> \u001b[32mNMODL\u001b[0m ../mod.files/ca.mod\n",
      " -> \u001b[32mNMODL\u001b[0m ../mod.files/cad.mod\n",
      "(cd \"../mod.files\"; MODLUNIT=/opt/anaconda3/lib/python3.8/site-packages/neuron/.data/share/nrn/lib/nrnunits.lib /opt/anaconda3/lib/python3.8/site-packages/neuron/.data/bin/nocmodl caL3d.mod -o \"/Users/shhong/Dropbox/CNS_course/2022/a310_cns_2022/homework_3/x86_64\")\n",
      "(cd \"../mod.files\"; MODLUNIT=/opt/anaconda3/lib/python3.8/site-packages/neuron/.data/share/nrn/lib/nrnunits.lib /opt/anaconda3/lib/python3.8/site-packages/neuron/.data/bin/nocmodl cad.mod -o \"/Users/shhong/Dropbox/CNS_course/2022/a310_cns_2022/homework_3/x86_64\")\n",
      "(cd \"../mod.files\"; MODLUNIT=/opt/anaconda3/lib/python3.8/site-packages/neuron/.data/share/nrn/lib/nrnunits.lib /opt/anaconda3/lib/python3.8/site-packages/neuron/.data/bin/nocmodl ca.mod -o \"/Users/shhong/Dropbox/CNS_course/2022/a310_cns_2022/homework_3/x86_64\")\n"
     ]
    },
    {
     "name": "stderr",
     "output_type": "stream",
     "text": [
      "/opt/anaconda3/lib/python3.8/site-packages/neuron/.data/bin/nocmodl: Warning several input files specified on command line but only one will be processed\n",
      "/opt/anaconda3/lib/python3.8/site-packages/neuron/.data/bin/nocmodl: Warning several input files specified on command line but only one will be processed\n",
      "/opt/anaconda3/lib/python3.8/site-packages/neuron/.data/bin/nocmodl: Warning several input files specified on command line but only one will be processed\n",
      "Translating cad.mod into cad.c\n",
      "Translating caL3d.mod into caL3d.c\n",
      "Translating ca.mod into ca.c\n",
      "NEURON's CVode method ignores conservation\n",
      "Notice: Assignment to the GLOBAL variable, \"tadj\", is not thread safe\n",
      "Notice: Assignment to the GLOBAL variable, \"tadj\", is not thread safe\n",
      "Thread Safe\n"
     ]
    },
    {
     "name": "stdout",
     "output_type": "stream",
     "text": [
      " -> \u001b[32mNMODL\u001b[0m ../mod.files/exp2synNMDA.mod\n",
      " -> \u001b[32mNMODL\u001b[0m ../mod.files/h.mod\n",
      "(cd \"../mod.files\"; MODLUNIT=/opt/anaconda3/lib/python3.8/site-packages/neuron/.data/share/nrn/lib/nrnunits.lib /opt/anaconda3/lib/python3.8/site-packages/neuron/.data/bin/nocmodl exp2synNMDA.mod -o \"/Users/shhong/Dropbox/CNS_course/2022/a310_cns_2022/homework_3/x86_64\")\n",
      " -> \u001b[32mNMODL\u001b[0m ../mod.files/kca.mod\n",
      "(cd \"../mod.files\"; MODLUNIT=/opt/anaconda3/lib/python3.8/site-packages/neuron/.data/share/nrn/lib/nrnunits.lib /opt/anaconda3/lib/python3.8/site-packages/neuron/.data/bin/nocmodl h.mod -o \"/Users/shhong/Dropbox/CNS_course/2022/a310_cns_2022/homework_3/x86_64\")\n",
      "(cd \"../mod.files\"; MODLUNIT=/opt/anaconda3/lib/python3.8/site-packages/neuron/.data/share/nrn/lib/nrnunits.lib /opt/anaconda3/lib/python3.8/site-packages/neuron/.data/bin/nocmodl kca.mod -o \"/Users/shhong/Dropbox/CNS_course/2022/a310_cns_2022/homework_3/x86_64\")\n"
     ]
    },
    {
     "name": "stderr",
     "output_type": "stream",
     "text": [
      "/opt/anaconda3/lib/python3.8/site-packages/neuron/.data/bin/nocmodl: Warning several input files specified on command line but only one will be processed\n",
      "/opt/anaconda3/lib/python3.8/site-packages/neuron/.data/bin/nocmodl: Warning several input files specified on command line but only one will be processed\n",
      "/opt/anaconda3/lib/python3.8/site-packages/neuron/.data/bin/nocmodl: Warning several input files specified on command line but only one will be processed\n",
      "Translating h.mod into h.c\n",
      "Translating kca.mod into kca.c\n",
      "Translating exp2synNMDA.mod into exp2synNMDA.c\n",
      "Notice: Assignment to the GLOBAL variable, \"tadj\", is not thread safe\n",
      "Notice: Assignment to the GLOBAL variable, \"linf\", is not thread safe\n",
      "Notice: Assignment to the GLOBAL variable, \"taul\", is not thread safe\n",
      "Thread Safe\n"
     ]
    },
    {
     "name": "stdout",
     "output_type": "stream",
     "text": [
      " -> \u001b[32mNMODL\u001b[0m ../mod.files/kir.mod\n",
      "(cd \"../mod.files\"; MODLUNIT=/opt/anaconda3/lib/python3.8/site-packages/neuron/.data/share/nrn/lib/nrnunits.lib /opt/anaconda3/lib/python3.8/site-packages/neuron/.data/bin/nocmodl kir.mod -o \"/Users/shhong/Dropbox/CNS_course/2022/a310_cns_2022/homework_3/x86_64\")\n",
      " -> \u001b[32mNMODL\u001b[0m ../mod.files/km.mod\n",
      "(cd \"../mod.files\"; MODLUNIT=/opt/anaconda3/lib/python3.8/site-packages/neuron/.data/share/nrn/lib/nrnunits.lib /opt/anaconda3/lib/python3.8/site-packages/neuron/.data/bin/nocmodl km.mod -o \"/Users/shhong/Dropbox/CNS_course/2022/a310_cns_2022/homework_3/x86_64\")\n",
      " -> \u001b[32mNMODL\u001b[0m ../mod.files/kv.mod\n",
      "(cd \"../mod.files\"; MODLUNIT=/opt/anaconda3/lib/python3.8/site-packages/neuron/.data/share/nrn/lib/nrnunits.lib /opt/anaconda3/lib/python3.8/site-packages/neuron/.data/bin/nocmodl kv.mod -o \"/Users/shhong/Dropbox/CNS_course/2022/a310_cns_2022/homework_3/x86_64\")\n"
     ]
    },
    {
     "name": "stderr",
     "output_type": "stream",
     "text": [
      "/opt/anaconda3/lib/python3.8/site-packages/neuron/.data/bin/nocmodl: Warning several input files specified on command line but only one will be processed\n",
      "Translating kir.mod into kir.c\n",
      "/opt/anaconda3/lib/python3.8/site-packages/neuron/.data/bin/nocmodl: Warning several input files specified on command line but only one will be processed\n",
      "Translating km.mod into km.c\n",
      "/opt/anaconda3/lib/python3.8/site-packages/neuron/.data/bin/nocmodl: Warning several input files specified on command line but only one will be processed\n",
      "Translating kv.mod into kv.c\n",
      "Thread Safe\n",
      "Notice: Assignment to the GLOBAL variable, \"tadj\", is not thread safe\n",
      "Notice: Assignment to the GLOBAL variable, \"tadj\", is not thread safe\n"
     ]
    },
    {
     "name": "stdout",
     "output_type": "stream",
     "text": [
      " -> \u001b[32mNMODL\u001b[0m ../mod.files/mease.mod\n",
      "(cd \"../mod.files\"; MODLUNIT=/opt/anaconda3/lib/python3.8/site-packages/neuron/.data/share/nrn/lib/nrnunits.lib /opt/anaconda3/lib/python3.8/site-packages/neuron/.data/bin/nocmodl mease.mod -o \"/Users/shhong/Dropbox/CNS_course/2022/a310_cns_2022/homework_3/x86_64\")\n",
      " -> \u001b[32mNMODL\u001b[0m ../mod.files/na.mod\n",
      "(cd \"../mod.files\"; MODLUNIT=/opt/anaconda3/lib/python3.8/site-packages/neuron/.data/share/nrn/lib/nrnunits.lib /opt/anaconda3/lib/python3.8/site-packages/neuron/.data/bin/nocmodl na.mod -o \"/Users/shhong/Dropbox/CNS_course/2022/a310_cns_2022/homework_3/x86_64\")\n",
      " -> \u001b[32mNMODL\u001b[0m ../mod.files/netstim2.mod\n",
      "(cd \"../mod.files\"; MODLUNIT=/opt/anaconda3/lib/python3.8/site-packages/neuron/.data/share/nrn/lib/nrnunits.lib /opt/anaconda3/lib/python3.8/site-packages/neuron/.data/bin/nocmodl netstim2.mod -o \"/Users/shhong/Dropbox/CNS_course/2022/a310_cns_2022/homework_3/x86_64\")\n"
     ]
    },
    {
     "name": "stderr",
     "output_type": "stream",
     "text": [
      "/opt/anaconda3/lib/python3.8/site-packages/neuron/.data/bin/nocmodl: Warning several input files specified on command line but only one will be processed\n",
      "/opt/anaconda3/lib/python3.8/site-packages/neuron/.data/bin/nocmodl: Warning several input files specified on command line but only one will be processed\n",
      "Translating mease.mod into mease.c\n",
      "Translating na.mod into na.c\n",
      "/opt/anaconda3/lib/python3.8/site-packages/neuron/.data/bin/nocmodl: Warning several input files specified on command line but only one will be processed\n",
      "Notice: Assignment to the GLOBAL variable, \"tadj\", is not thread safe\n",
      "Translating netstim2.mod into netstim2.c\n",
      "Thread Safe\n"
     ]
    },
    {
     "name": "stdout",
     "output_type": "stream",
     "text": [
      "Warning: Default -77 of PARAMETER ek will be ignored and set by NEURON.\n",
      "Warning: Default 50 of PARAMETER ena will be ignored and set by NEURON.\n"
     ]
    },
    {
     "name": "stderr",
     "output_type": "stream",
     "text": [
      "Thread Safe\n"
     ]
    },
    {
     "name": "stdout",
     "output_type": "stream",
     "text": [
      "Notice: ARTIFICIAL_CELL is a synonym for POINT_PROCESS which hints that it\n",
      "only affects and is affected by discrete events. As such it is not\n",
      "located in a section and is not associated with an integrator\n",
      " -> \u001b[32mCompiling\u001b[0m CaT.c\n",
      " -> \u001b[32mNMODL\u001b[0m ../mod.files/wb.mod\n",
      "gcc -O2   -I\"../mod.files\" -I.   -I/opt/anaconda3/lib/python3.8/site-packages/neuron/.data/include  -I/usr/local/Cellar/open-mpi/4.1.2/include -fPIC -c CaT.c -o CaT.o\n",
      "(cd \"../mod.files\"; MODLUNIT=/opt/anaconda3/lib/python3.8/site-packages/neuron/.data/share/nrn/lib/nrnunits.lib /opt/anaconda3/lib/python3.8/site-packages/neuron/.data/bin/nocmodl wb.mod -o \"/Users/shhong/Dropbox/CNS_course/2022/a310_cns_2022/homework_3/x86_64\")\n",
      " -> \u001b[32mCompiling\u001b[0m ConnorStevens.c\n",
      "gcc -O2   -I\"../mod.files\" -I.   -I/opt/anaconda3/lib/python3.8/site-packages/neuron/.data/include  -I/usr/local/Cellar/open-mpi/4.1.2/include -fPIC -c ConnorStevens.c -o ConnorStevens.o\n",
      " -> \u001b[32mCompiling\u001b[0m HH2.c\n",
      "gcc -O2   -I\"../mod.files\" -I.   -I/opt/anaconda3/lib/python3.8/site-packages/neuron/.data/include  -I/usr/local/Cellar/open-mpi/4.1.2/include -fPIC -c HH2.c -o HH2.o\n"
     ]
    },
    {
     "name": "stderr",
     "output_type": "stream",
     "text": [
      "/opt/anaconda3/lib/python3.8/site-packages/neuron/.data/bin/nocmodl: Warning several input files specified on command line but only one will be processed\n",
      "Translating wb.mod into wb.c\n",
      "WARNING: m (a STATE) is assigned a value in a DERIVATIVE block.\n",
      " Multistep integrators (such as Runge) may not work correctly.\n",
      "Thread Safe\n"
     ]
    },
    {
     "name": "stdout",
     "output_type": "stream",
     "text": [
      " -> \u001b[32mCompiling\u001b[0m ca.c\n",
      "gcc -O2   -I\"../mod.files\" -I.   -I/opt/anaconda3/lib/python3.8/site-packages/neuron/.data/include  -I/usr/local/Cellar/open-mpi/4.1.2/include -fPIC -c ca.c -o ca.o\n"
     ]
    },
    {
     "name": "stderr",
     "output_type": "stream",
     "text": [
      "clang: error: no such file or directory: 'CaT.c'\n",
      "clang: error: no input files\n",
      "make: *** [CaT.o] Error 1\n",
      "make: *** Waiting for unfinished jobs....\n",
      "clang: error: no such file or directory: 'HH2.c'\n",
      "clang: error: no input files\n",
      "make: *** [HH2.o] Error 1\n",
      "clang: error: no such file or directory: 'ConnorStevens.c'\n",
      "clang: error: no input files\n",
      "make: *** [ConnorStevens.o] Error 1\n",
      "clang: error: no such file or directory: 'ca.c'\n",
      "clang: error: no input files\n",
      "make: *** [ca.o] Error 1\n"
     ]
    },
    {
     "ename": "CalledProcessError",
     "evalue": "Command 'b'nrnivmodl mod.files\\n'' returned non-zero exit status 2.",
     "output_type": "error",
     "traceback": [
      "\u001b[0;31m---------------------------------------------------------------------------\u001b[0m",
      "\u001b[0;31mCalledProcessError\u001b[0m                        Traceback (most recent call last)",
      "Input \u001b[0;32mIn [4]\u001b[0m, in \u001b[0;36m<cell line: 1>\u001b[0;34m()\u001b[0m\n\u001b[0;32m----> 1\u001b[0m \u001b[43mget_ipython\u001b[49m\u001b[43m(\u001b[49m\u001b[43m)\u001b[49m\u001b[38;5;241;43m.\u001b[39;49m\u001b[43mrun_cell_magic\u001b[49m\u001b[43m(\u001b[49m\u001b[38;5;124;43m'\u001b[39;49m\u001b[38;5;124;43mbash\u001b[39;49m\u001b[38;5;124;43m'\u001b[39;49m\u001b[43m,\u001b[49m\u001b[43m \u001b[49m\u001b[38;5;124;43m'\u001b[39;49m\u001b[38;5;124;43m'\u001b[39;49m\u001b[43m,\u001b[49m\u001b[43m \u001b[49m\u001b[38;5;124;43m'\u001b[39;49m\u001b[38;5;124;43mnrnivmodl mod.files\u001b[39;49m\u001b[38;5;130;43;01m\\n\u001b[39;49;00m\u001b[38;5;124;43m'\u001b[39;49m\u001b[43m)\u001b[49m\n",
      "File \u001b[0;32m/opt/anaconda3/lib/python3.8/site-packages/IPython/core/interactiveshell.py:2338\u001b[0m, in \u001b[0;36mInteractiveShell.run_cell_magic\u001b[0;34m(self, magic_name, line, cell)\u001b[0m\n\u001b[1;32m   2336\u001b[0m \u001b[38;5;28;01mwith\u001b[39;00m \u001b[38;5;28mself\u001b[39m\u001b[38;5;241m.\u001b[39mbuiltin_trap:\n\u001b[1;32m   2337\u001b[0m     args \u001b[38;5;241m=\u001b[39m (magic_arg_s, cell)\n\u001b[0;32m-> 2338\u001b[0m     result \u001b[38;5;241m=\u001b[39m \u001b[43mfn\u001b[49m\u001b[43m(\u001b[49m\u001b[38;5;241;43m*\u001b[39;49m\u001b[43margs\u001b[49m\u001b[43m,\u001b[49m\u001b[43m \u001b[49m\u001b[38;5;241;43m*\u001b[39;49m\u001b[38;5;241;43m*\u001b[39;49m\u001b[43mkwargs\u001b[49m\u001b[43m)\u001b[49m\n\u001b[1;32m   2339\u001b[0m \u001b[38;5;28;01mreturn\u001b[39;00m result\n",
      "File \u001b[0;32m/opt/anaconda3/lib/python3.8/site-packages/IPython/core/magics/script.py:153\u001b[0m, in \u001b[0;36mScriptMagics._make_script_magic.<locals>.named_script_magic\u001b[0;34m(line, cell)\u001b[0m\n\u001b[1;32m    151\u001b[0m \u001b[38;5;28;01melse\u001b[39;00m:\n\u001b[1;32m    152\u001b[0m     line \u001b[38;5;241m=\u001b[39m script\n\u001b[0;32m--> 153\u001b[0m \u001b[38;5;28;01mreturn\u001b[39;00m \u001b[38;5;28;43mself\u001b[39;49m\u001b[38;5;241;43m.\u001b[39;49m\u001b[43mshebang\u001b[49m\u001b[43m(\u001b[49m\u001b[43mline\u001b[49m\u001b[43m,\u001b[49m\u001b[43m \u001b[49m\u001b[43mcell\u001b[49m\u001b[43m)\u001b[49m\n",
      "File \u001b[0;32m/opt/anaconda3/lib/python3.8/site-packages/IPython/core/magics/script.py:305\u001b[0m, in \u001b[0;36mScriptMagics.shebang\u001b[0;34m(self, line, cell)\u001b[0m\n\u001b[1;32m    300\u001b[0m \u001b[38;5;28;01mif\u001b[39;00m args\u001b[38;5;241m.\u001b[39mraise_error \u001b[38;5;129;01mand\u001b[39;00m p\u001b[38;5;241m.\u001b[39mreturncode \u001b[38;5;241m!=\u001b[39m \u001b[38;5;241m0\u001b[39m:\n\u001b[1;32m    301\u001b[0m     \u001b[38;5;66;03m# If we get here and p.returncode is still None, we must have\u001b[39;00m\n\u001b[1;32m    302\u001b[0m     \u001b[38;5;66;03m# killed it but not yet seen its return code. We don't wait for it,\u001b[39;00m\n\u001b[1;32m    303\u001b[0m     \u001b[38;5;66;03m# in case it's stuck in uninterruptible sleep. -9 = SIGKILL\u001b[39;00m\n\u001b[1;32m    304\u001b[0m     rc \u001b[38;5;241m=\u001b[39m p\u001b[38;5;241m.\u001b[39mreturncode \u001b[38;5;129;01mor\u001b[39;00m \u001b[38;5;241m-\u001b[39m\u001b[38;5;241m9\u001b[39m\n\u001b[0;32m--> 305\u001b[0m     \u001b[38;5;28;01mraise\u001b[39;00m CalledProcessError(rc, cell)\n",
      "\u001b[0;31mCalledProcessError\u001b[0m: Command 'b'nrnivmodl mod.files\\n'' returned non-zero exit status 2."
     ]
    }
   ],
   "source": [
    "%%bash\n",
    "nrnivmodl mod.files"
   ]
  },
  {
   "cell_type": "markdown",
   "metadata": {},
   "source": [
    "## 2. Channel dynamics during spike generation\n",
    "\n",
    "Here we use the current clamp simulation of a single compartment neuron with the Hodgkin-Huxley mechanism to observe how ion channels activate during an action potential firing, triggered by a brief current injection.\n",
    "\n",
    "Set up the current clamp simulation with the following specifications:\n",
    "1. A single section, named `soma`, with a diameter and length of 15 um,\n",
    "2. The Hodgkin-Huxley mechanism inserted (`hh`) ,\n",
    "3. A current clamp (`h.IClamp`) electrode embedded with the duration of injection (`ic.dur`) is short (1 ms).\n",
    "\n",
    "With simulation of this model, answer the following questions:\n",
    "1. Discuss how the channel activates during spike generation in a similar way to Fig. 6.5 in the textbook, by recording and showing how the channel gating variables, `m_hh`, `h_hh`, and `n_hh`, evolve in time.\n",
    "2. __(Anode break excitation)__ Set the injected current (`ic.amp`) to -0.2 nA, run the simulation, and explain the result.\n",
    "3. Plot the 2D phase plots of voltage and other gating variables. For example, `v` vs `n_hh`, `n_hh` vs `m_hh`, etc. In each plot, draw several trajectories with different injected currents, particularly including the negative ones (as in 2). Which pair of variables are most helpful to understand the system's behavior and how? Is your answer to the question 2 consistent with the phase plots?\n"
   ]
  }
 ],
 "metadata": {
  "kernel_info": {
   "name": "python3"
  },
  "kernelspec": {
   "display_name": "Python 3",
   "language": "python",
   "name": "python3"
  },
  "language_info": {
   "codemirror_mode": {
    "name": "ipython",
    "version": 3
   },
   "file_extension": ".py",
   "mimetype": "text/x-python",
   "name": "python",
   "nbconvert_exporter": "python",
   "pygments_lexer": "ipython3",
   "version": "3.8.12"
  },
  "nteract": {
   "version": "0.7.1"
  }
 },
 "nbformat": 4,
 "nbformat_minor": 4
}
